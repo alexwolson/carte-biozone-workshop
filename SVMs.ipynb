{
 "cells": [
  {
   "cell_type": "markdown",
   "metadata": {
    "id": "aHrFSVlvL5Ng"
   },
   "source": [
    "In this lab, we will extend our work with Scikit-Learn from Lab 1, and look at a range of linear classifiers. Then, we will introduce Support Vector Machines (SVMs), a powerful classifier. In this section, we will develop the intuition behind support vector machines and their use in classification problems. Finally, we will look at linear regression, and introduce the concept of regularizers.\n",
    "\n",
    "We begin with some standard imports and installation of the packages that will be used"
   ]
  },
  {
   "cell_type": "code",
   "execution_count": null,
   "metadata": {
    "colab": {
     "base_uri": "https://localhost:8080/"
    },
    "id": "b23doO9IL5Nh",
    "outputId": "74768ceb-ccd7-455c-cddd-3bebb091b46d"
   },
   "outputs": [],
   "source": [
    "# Check if we are running on Google Colab, or locally\n",
    "import sys\n",
    "\n",
    "IN_COLAB = \"google.colab\" in sys.modules\n",
    "\n",
    "if not IN_COLAB:\n",
    "    !pip install -q seaborn matplotlib scipy numpy scikit-learn"
   ]
  },
  {
   "cell_type": "code",
   "execution_count": null,
   "metadata": {
    "id": "PAeyBjdpL5Ni"
   },
   "outputs": [],
   "source": [
    "import numpy as np\n",
    "import matplotlib.pyplot as plt\n",
    "\n",
    "# use seaborn plotting defaults\n",
    "import seaborn as sns; sns.set()"
   ]
  },
  {
   "cell_type": "markdown",
   "metadata": {
    "id": "fIRZgowKL5Nj"
   },
   "source": [
    "# SVMS: Motivation"
   ]
  },
  {
   "cell_type": "markdown",
   "metadata": {
    "id": "4Kj59SzZL5Nj"
   },
   "source": [
    "While the KNN classifier we looked at in the previous lab classifies new samples by their proximity to existing data, here we will be looking at models which draw a _decision boundary_ through the data. This means that we can draw a 'line' through N-dimensional space which separates the classes - everything on one side of the line will be class A, and everything on the other side of the line will be class B. Here's an example:"
   ]
  },
  {
   "cell_type": "code",
   "execution_count": null,
   "metadata": {
    "colab": {
     "base_uri": "https://localhost:8080/",
     "height": 268
    },
    "id": "8u6M4-cTL5Nk",
    "outputId": "a5026a52-0c4d-4ddb-89c6-ce2e20c940a6"
   },
   "outputs": [],
   "source": [
    "from sklearn.datasets import make_blobs\n",
    "\n",
    "X, y = make_blobs(n_samples=50, centers=2,random_state=0, cluster_std=0.60)\n",
    "\n",
    "plt.scatter(X[:, 0], X[:, 1], c=y, s=50, cmap='autumn');"
   ]
  },
  {
   "cell_type": "markdown",
   "metadata": {
    "id": "b4Js3RwjL5Nl"
   },
   "source": [
    "It's pretty obvious from looking at this data where the decision boundary should go - at least approximately. But in reality, there are a whole set of potential decision boundaries we could use here! Here are three _very_ different separators which will all perfectly classify the data:"
   ]
  },
  {
   "cell_type": "code",
   "execution_count": null,
   "metadata": {
    "colab": {
     "base_uri": "https://localhost:8080/",
     "height": 268
    },
    "id": "AoO-VsfoL5Nm",
    "outputId": "7c4cdc3d-cb31-40db-ca6f-ceec2300fba4"
   },
   "outputs": [],
   "source": [
    "xfit = np.linspace(-1, 3.5)\n",
    "plt.scatter(X[:, 0], X[:, 1], c=y, s=50, cmap='autumn')\n",
    "plt.plot([0.6], [2.1], 'x', color='red', markeredgewidth=2, markersize=10)\n",
    "\n",
    "for m, b in [(1, 0.65), (0.5, 1.6), (-0.2, 2.9)]:\n",
    "    plt.plot(xfit, m * xfit + b, '-k')\n",
    "\n",
    "plt.xlim(-1, 3.5);"
   ]
  },
  {
   "cell_type": "markdown",
   "metadata": {
    "id": "F_VPFf8SL5Nn"
   },
   "source": [
    "Depending on which you choose, a new data point (e.g., the one marked by the \"X\" in this plot) will be assigned a different label!\n",
    "Evidently our simple intuition of \"drawing a line between classes\" is not enough, and we need to think a bit deeper."
   ]
  },
  {
   "cell_type": "markdown",
   "metadata": {
    "id": "RGnNo83xL5No"
   },
   "source": [
    "# Maximizing the margin"
   ]
  },
  {
   "cell_type": "markdown",
   "metadata": {
    "id": "a-Le7IHcL5No"
   },
   "source": [
    "Support vector machines offer one way to improve on this. The intuition is this: rather than simply drawing a zero-width line between the classes, we can draw around each line a margin of some width, up to the nearest point. Here is an example of how this might look:"
   ]
  },
  {
   "cell_type": "code",
   "execution_count": null,
   "metadata": {
    "colab": {
     "base_uri": "https://localhost:8080/",
     "height": 268
    },
    "id": "RCtEI10RL5No",
    "outputId": "d1f96da6-af4a-4fa9-ad61-077e5235e0ca"
   },
   "outputs": [],
   "source": [
    "xfit = np.linspace(-1, 3.5)\n",
    "plt.scatter(X[:, 0], X[:, 1], c=y, s=50, cmap='autumn')\n",
    "\n",
    "for m, b, d in [(1, 0.65, 0.33), (0.5, 1.6, 0.55), (-0.2, 2.9, 0.2)]:\n",
    "    yfit = m * xfit + b\n",
    "    plt.plot(xfit, yfit, '-k')\n",
    "    plt.fill_between(xfit, yfit - d, yfit + d, edgecolor='none',\n",
    "                     color='#AAAAAA', alpha=0.4)\n",
    "\n",
    "plt.xlim(-1, 3.5);"
   ]
  },
  {
   "cell_type": "markdown",
   "metadata": {
    "id": "tWq6dlJ4L5Np"
   },
   "source": [
    "In support vector machines, the line that maximizes this margin (i.e., the thickest grey area) is the one we will choose as the optimal model. Support vector machines are an example of such a maximum margin estimator."
   ]
  },
  {
   "cell_type": "markdown",
   "metadata": {
    "id": "crn2C0PxL5Np"
   },
   "source": [
    "# Fitting an SVM"
   ]
  },
  {
   "cell_type": "markdown",
   "metadata": {
    "id": "UTUx-qCvL5Nq"
   },
   "source": [
    "Let's see the result of an actual fit to this data: we will use Scikit-Learn's support vector classifier to train an SVM model on this data. (Remember sklearn's **initialize->fit->predict** pipeline!)"
   ]
  },
  {
   "cell_type": "code",
   "execution_count": null,
   "metadata": {
    "colab": {
     "base_uri": "https://localhost:8080/"
    },
    "id": "3LwQqoGRL5Nq",
    "outputId": "dcf3c9ca-36b9-4428-e482-289d1c85d77d"
   },
   "outputs": [],
   "source": [
    "from sklearn.svm import SVC # \"Support vector classifier\"\n",
    "\n",
    "model = SVC(kernel='linear') #initialize\n",
    "\n",
    "model.fit(X, y) # fit"
   ]
  },
  {
   "cell_type": "markdown",
   "metadata": {
    "id": "xIDVFh3BL5Nr"
   },
   "source": [
    "To better visualize what's happening here, let's create a quick convenience function that will plot SVM decision boundaries for us (*Note: don't worry about the details of this function too much right now*):"
   ]
  },
  {
   "cell_type": "code",
   "execution_count": null,
   "metadata": {
    "id": "gMRUceifL5Nr"
   },
   "outputs": [],
   "source": [
    "def plot_svc_decision_function(model, ax=None, plot_support=True):\n",
    "    \"\"\"Plot the decision function for a 2D SVC\"\"\"\n",
    "    if ax is None:\n",
    "        ax = plt.gca()\n",
    "    xlim = ax.get_xlim()\n",
    "    ylim = ax.get_ylim()\n",
    "    \n",
    "    # create grid to evaluate model\n",
    "    x = np.linspace(xlim[0], xlim[1], 30)\n",
    "    y = np.linspace(ylim[0], ylim[1], 30)\n",
    "    Y, X = np.meshgrid(y, x)\n",
    "    xy = np.vstack([X.ravel(), Y.ravel()]).T\n",
    "    P = model.decision_function(xy).reshape(X.shape)\n",
    "    \n",
    "    # plot decision boundary and margins\n",
    "    ax.contour(X, Y, P, colors='k',\n",
    "               levels=[-1, 0, 1], alpha=0.5,\n",
    "               linestyles=['--', '-', '--'])\n",
    "    \n",
    "    # plot support vectors\n",
    "    if plot_support:\n",
    "        ax.scatter(model.support_vectors_[:, 0],\n",
    "                   model.support_vectors_[:, 1],\n",
    "                   s=300, linewidth=1, facecolors='none');\n",
    "    ax.set_xlim(xlim)\n",
    "    ax.set_ylim(ylim)"
   ]
  },
  {
   "cell_type": "code",
   "execution_count": null,
   "metadata": {
    "colab": {
     "base_uri": "https://localhost:8080/",
     "height": 268
    },
    "id": "8t8MJpObL5Nr",
    "outputId": "22e7c3a5-1b9f-4661-e572-33be0c0134d3"
   },
   "outputs": [],
   "source": [
    "plt.scatter(X[:, 0], X[:, 1], c=y, s=50, cmap='autumn')\n",
    "plot_svc_decision_function(model);"
   ]
  },
  {
   "cell_type": "markdown",
   "metadata": {
    "id": "07yDyKUQL5Ns"
   },
   "source": [
    "This is the dividing line that maximizes the margin between the two sets of points. Notice that a few of the training points just touch the margin. These points are the pivotal elements of this fit, and are known as the support vectors, and give the algorithm its name."
   ]
  },
  {
   "cell_type": "markdown",
   "metadata": {
    "id": "OUjmHhASL5Ns"
   },
   "source": [
    "# Comparing to Lab 1"
   ]
  },
  {
   "cell_type": "markdown",
   "metadata": {
    "id": "Ann5GCe3L5Ns"
   },
   "source": [
    "Let's bring back our KNN classifier from Lab 1, and compare its performance on a classification task to an SVM. We'll use a wine dataset provided by Scikit-Learn:"
   ]
  },
  {
   "cell_type": "code",
   "execution_count": null,
   "metadata": {
    "id": "ZqZE8UDyL5Ns"
   },
   "outputs": [],
   "source": [
    "from sklearn.datasets import load_wine\n",
    "\n",
    "wine_data = load_wine()"
   ]
  },
  {
   "cell_type": "markdown",
   "metadata": {
    "id": "9xJaAnDfL5Nt"
   },
   "source": [
    "The data also conveniently comes with a description that we can print out as follows:"
   ]
  },
  {
   "cell_type": "code",
   "execution_count": null,
   "metadata": {
    "colab": {
     "base_uri": "https://localhost:8080/"
    },
    "id": "p5TzkZtVL5Nt",
    "outputId": "b6080617-7d5f-48a3-952d-15f1b0d42b3d"
   },
   "outputs": [],
   "source": [
    "print(wine_data.DESCR)"
   ]
  },
  {
   "cell_type": "markdown",
   "metadata": {
    "id": "mpNmeUoOL5Nt"
   },
   "source": [
    "Excellent! This is just what we needed to understand how to think about and use this data set. The key points:\n",
    "\n",
    "1.    There are 3 classes (creatively named 'class_0', 'class_1', and 'class_2'). It's likely these correspond to some typical wine varietals like Pinot Noir, or Cabernet, or Merlot...\n",
    "2.    There are 13 numerical attributes detailing things like alcohol perentage, ash (am I drinking ash in my wine??), Flavanoids, etc.\n"
   ]
  },
  {
   "cell_type": "markdown",
   "metadata": {
    "id": "W0w903dZL5Nt"
   },
   "source": [
    "Let's now try classifying this dataset using the KNN classifier from the previous lab. As a hint, all of the required imports are provided below. If you're stuck, look back on last week to see what to do - just remember we are using `wine_data` now instead of `iris_data`.\n",
    "\n",
    "**YOUR TURN**\n",
    "\n",
    "Create a wine classifying KNN with k=1 using the code from the last lab.\n",
    "\n",
    "* What was the accuracy on the training set? ______\n",
    "* What was the cross-validation accuracy on the test set? ______"
   ]
  },
  {
   "cell_type": "code",
   "execution_count": null,
   "metadata": {
    "id": "W_sBtUGBL5Nu"
   },
   "outputs": [],
   "source": [
    "from sklearn.model_selection import train_test_split, cross_val_score\n",
    "from sklearn import neighbors\n",
    "\n",
    "### YOUR CODE HERE\n",
    "##"
   ]
  },
  {
   "cell_type": "code",
   "execution_count": null,
   "metadata": {
    "id": "u_ghIbUjNYZB"
   },
   "outputs": [],
   "source": [
    "def prepared_data_lab2():\n",
    "    wine_data = load_wine()\n",
    "    feature_data = wine_data.data\n",
    "    target_data = wine_data.target\n",
    "    target_names = wine_data.target_names\n",
    "    return train_test_split(feature_data, target_data, test_size=0.3, random_state=0)\n",
    "\n",
    "def report_model_score(data, model, report=True):\n",
    "    scores = cross_val_score(model, data[0], data[1], cv=5)\n",
    "    if report:\n",
    "        print(\"CV Accuracy: %0.2f (+/- %0.2f)\" % (scores.mean(), scores.std() * 2))\n",
    "    return scores.mean()"
   ]
  },
  {
   "cell_type": "markdown",
   "metadata": {
    "id": "ZNb2-pEJL5Nu"
   },
   "source": [
    "You should notice that, even though we saw this classifier attain 97% accuracy last time, on this task performance is a lot worse. So let's bring in an SVM and see how well it performs:"
   ]
  },
  {
   "cell_type": "code",
   "execution_count": null,
   "metadata": {
    "colab": {
     "base_uri": "https://localhost:8080/"
    },
    "id": "6xFhKWUQL5Nu",
    "outputId": "e5df2585-d94f-42ab-8c97-29fd2e6b1fde"
   },
   "outputs": [],
   "source": [
    "X_train, X_test, y_train, y_test = prepared_data_lab2()\n",
    "model = SVC(kernel='linear')\n",
    "model.fit(X_train, y_train); #Note: adding a semicolon to the end of the line will prevent Jupyter from printing output!\n",
    "\n",
    "report_model_score(data=(X_test, y_test), model=model);"
   ]
  },
  {
   "cell_type": "markdown",
   "metadata": {
    "id": "IezcWVtML5Nu"
   },
   "source": [
    "This is dramatically higher! This is the power of SVMs. By identifying the _maximum margin_, they ensure not only _good_ but _optimal_ classification."
   ]
  },
  {
   "cell_type": "markdown",
   "metadata": {
    "id": "OptIK3axL5Nu"
   },
   "source": [
    "# Non-linear problems: Kernel SVM"
   ]
  },
  {
   "cell_type": "markdown",
   "metadata": {
    "id": "_ti1mcZJL5Nv"
   },
   "source": [
    "We've established why SVMs are (often) better than standard linear classifiers, and also that they can perform better than a model we've seen before. But so far we have only looked at data we can _linearly separate_: that is to say, we can draw a straight line between the classes. What happens when there is a clear separation, but it's non-linear? Here's an example:"
   ]
  },
  {
   "cell_type": "code",
   "execution_count": null,
   "metadata": {
    "colab": {
     "base_uri": "https://localhost:8080/",
     "height": 268
    },
    "id": "fVmvbAtWL5Nv",
    "outputId": "4c24c9fe-b7d9-4f74-ff73-173757683ae5"
   },
   "outputs": [],
   "source": [
    "from sklearn.datasets import make_circles\n",
    "X, y = make_circles(100, factor=.1, noise=.1)\n",
    "\n",
    "clf = SVC(kernel='linear').fit(X, y)\n",
    "\n",
    "plt.scatter(X[:, 0], X[:, 1], c=y, s=50, cmap='autumn')\n",
    "plot_svc_decision_function(clf, plot_support=False);"
   ]
  },
  {
   "cell_type": "markdown",
   "metadata": {
    "id": "0On0a73QL5Nv"
   },
   "source": [
    "Our SVM performs terribly here, to nobody's surprise. This data is absolutely not linearly separable! However, it's obvious to us how it _can_ be separated. The pattern is very clear! How can we get SVMs to approach this? It's simple. By _projecting_ the data into a different space, we can transform it in such a way that the information here is preserved, but we gain linear separability. To do this, we can introduce a _radial basis function_. This calculates the distance at any point from the centre of a circle."
   ]
  },
  {
   "cell_type": "code",
   "execution_count": null,
   "metadata": {
    "id": "c_FKfYOdL5Nv"
   },
   "outputs": [],
   "source": [
    "r = np.exp(-(X ** 2).sum(1))"
   ]
  },
  {
   "cell_type": "markdown",
   "metadata": {
    "id": "7lND1Y7DL5Nw"
   },
   "source": [
    "We can visualize this extra data dimension using a three-dimensional plot:"
   ]
  },
  {
   "cell_type": "code",
   "execution_count": null,
   "metadata": {
    "colab": {
     "base_uri": "https://localhost:8080/",
     "height": 248
    },
    "id": "k5PxWwFWL5Nw",
    "outputId": "9317e457-51a0-4ef4-9508-b76eeeb02042"
   },
   "outputs": [],
   "source": [
    "from mpl_toolkits import mplot3d\n",
    "ax = plt.subplot(projection='3d')\n",
    "ax.scatter3D(X[:, 0], X[:, 1], r, c=y, s=50, cmap='autumn')\n",
    "ax.view_init(elev=30, azim=30)"
   ]
  },
  {
   "cell_type": "markdown",
   "metadata": {
    "id": "tp4Uz2f6L5Nw"
   },
   "source": [
    "We can see that with this additional dimension, the data becomes trivially linearly separable.\n",
    "\n",
    "Here we had to choose and carefully tune our projection: if we had not centered our radial basis function in the right location, we would not have seen such clean, linearly separable results. In general, the need to make such a choice is a problem: we would like to somehow automatically find the best basis functions to use.\n",
    "\n",
    "One strategy to this end is to compute a basis function centered at every point in the dataset, and let the SVM algorithm sift through the results. This type of basis function transformation is known as a kernel transformation, as it is based on a similarity relationship (or kernel) between each pair of points.\n",
    "\n",
    "A potential problem with this strategy—projecting N points into N dimensions—is that it might become very computationally intensive as N grows large. However, because of a neat little procedure known as the kernel trick, a fit on kernel-transformed data can be done implicitly—that is, without ever building the full N-dimensional representation of the kernel projection! This kernel trick is built into the SVM, and is one of the reasons the method is so powerful.\n",
    "\n",
    "In Scikit-Learn, we can apply kernelized SVM simply by changing our linear kernel to an RBF (radial basis function) kernel, using the kernel model hyperparameter:"
   ]
  },
  {
   "cell_type": "code",
   "execution_count": null,
   "metadata": {
    "colab": {
     "base_uri": "https://localhost:8080/",
     "height": 268
    },
    "id": "Q77_exdwL5Nx",
    "outputId": "ecbe9118-7479-4aeb-acda-24b8a47771b2"
   },
   "outputs": [],
   "source": [
    "clf = SVC(kernel='rbf', gamma='auto')\n",
    "clf.fit(X, y)\n",
    "plt.scatter(X[:, 0], X[:, 1], c=y, s=50, cmap='autumn')\n",
    "plot_svc_decision_function(clf)\n",
    "plt.scatter(clf.support_vectors_[:, 0], clf.support_vectors_[:, 1],\n",
    "            s=300, lw=1, facecolors='none');"
   ]
  },
  {
   "cell_type": "markdown",
   "metadata": {
    "id": "soxrujXPL5Nx"
   },
   "source": [
    "Voila! The seperator is much nicer using the RBF kernel, as required. "
   ]
  },
  {
   "cell_type": "markdown",
   "metadata": {
    "id": "U9WdzsL9L5Nx"
   },
   "source": [
    "# Regression: Introduction"
   ]
  },
  {
   "cell_type": "markdown",
   "metadata": {
    "id": "YP6TxO2yL5Nx"
   },
   "source": [
    "The models we have looked at so far all fall under the umbrella term of _classification_. That is to say, these models take in some input data and return the predicted _class_ that data falls under. But there is another core type of model which we are yet to look at: _regression_ models.\n",
    "\n",
    "Regression models take in some input value X, but instead of returning an expected class they output another numerical value. This is important because in some problems we don't want to limit ourselves to _discrete_ classes - think about the difference between a model which predicts a person's age, and a model which predicts the generation someone was born in."
   ]
  },
  {
   "cell_type": "markdown",
   "metadata": {
    "id": "5xUHSyKYL5Ny"
   },
   "source": [
    "**YOUR TURN**\n",
    "\n",
    "* What is an example of a problem that should be solved using a _classifier_? __________\n",
    "* What is an example of a problem that should be solved using a _regressor_? __________"
   ]
  },
  {
   "cell_type": "markdown",
   "metadata": {
    "id": "I3Z3sSYmL5Ny"
   },
   "source": [
    "# Regression: Ordinary Least Squares"
   ]
  },
  {
   "cell_type": "markdown",
   "metadata": {
    "id": "yjY2k-x-L5Ny"
   },
   "source": [
    "One of the simplest regression models we will look at is Ordinary Least Squares (OLS), a type of linear regressor. OLS fits a linear model with coefficients $w = (w_1..w_p)$ to minimize the _residual sum of squares_ between the observed targets in the dataset, and the targets predicted by the regressor. That is to say, the objective of the model is to minimize the difference between the predicted and actual value for each training point, squared. This is represented mathematically by the _cost function_ below: $$min_w||Xw-y||^2_2$$\n",
    "\n",
    "The subscript 2 refers to the fact that this computation is using L2 norm - for now, we will skip this, but it essentially refers to calculating the Euclidean distance between $Xw$ and $y$. The superscript 2 refers to the fact that this cost term is squared."
   ]
  },
  {
   "cell_type": "markdown",
   "metadata": {
    "id": "q9C2kfIbL5Ny"
   },
   "source": [
    "Let's now take two loosely correlated features from the wine dataset and plot them. We will use alcohol level and color intensity for our first regressor."
   ]
  },
  {
   "cell_type": "code",
   "execution_count": null,
   "metadata": {
    "id": "XpeXKLF6L5Ny"
   },
   "outputs": [],
   "source": [
    "alcohol = wine_data.data[:,wine_data.feature_names.index('alcohol')]\n",
    "color = wine_data.data[:,wine_data.feature_names.index('color_intensity')]"
   ]
  },
  {
   "cell_type": "code",
   "execution_count": null,
   "metadata": {
    "colab": {
     "base_uri": "https://localhost:8080/",
     "height": 285
    },
    "id": "03bZ7UuiL5Ny",
    "outputId": "5a1f2297-40e3-4f13-939d-cfde9e785625"
   },
   "outputs": [],
   "source": [
    "plt.scatter(alcohol,color)\n",
    "plt.xlabel('Alcohol level (%)')\n",
    "plt.ylabel('Color intensity');"
   ]
  },
  {
   "cell_type": "code",
   "execution_count": null,
   "metadata": {
    "id": "_1eXbaNcNskW"
   },
   "outputs": [],
   "source": [
    "  def train_test_split_1d(feature_data, target_data, test_size, random_state):\n",
    "    X_train, X_test, y_train, y_test = train_test_split(feature_data, target_data, test_size=test_size, random_state=random_state)\n",
    "    return X_train.reshape(-1,1), X_test.reshape(-1,1), y_train, y_test"
   ]
  },
  {
   "cell_type": "code",
   "execution_count": null,
   "metadata": {
    "id": "25DKXc0cL5Nz"
   },
   "outputs": [],
   "source": [
    "from sklearn import linear_model\n",
    "\n",
    "reg = linear_model.LinearRegression() #intialize\n",
    "\n",
    "X_train,X_test,y_train,y_test = train_test_split_1d(alcohol,color,test_size=0.3,random_state=0)"
   ]
  },
  {
   "cell_type": "code",
   "execution_count": null,
   "metadata": {
    "id": "nfivcFJlL5Nz"
   },
   "outputs": [],
   "source": [
    "reg.fit(X_train,y_train); # fit"
   ]
  },
  {
   "cell_type": "code",
   "execution_count": null,
   "metadata": {
    "colab": {
     "base_uri": "https://localhost:8080/",
     "height": 285
    },
    "id": "NWXXeujdL5Nz",
    "outputId": "83fa145b-2fec-44b9-beb9-35a0000c637d"
   },
   "outputs": [],
   "source": [
    "plt.scatter(alcohol,color)\n",
    "plt.xlabel('Alcohol level (%)')\n",
    "plt.ylabel('Color intensity');\n",
    "plt.plot(alcohol, [(t * reg.coef_[0]) + reg.intercept_ for t in alcohol],c='red');"
   ]
  },
  {
   "cell_type": "markdown",
   "metadata": {
    "id": "1B_JNwm6L5Nz"
   },
   "source": [
    "The red line here represents the prediction our model makes at each alcohol level. As you can see, although it does follow the general trend of the data, some of the data points are very far off the line."
   ]
  },
  {
   "cell_type": "markdown",
   "metadata": {
    "id": "lPDOFnQwL5N0"
   },
   "source": [
    "Although it is technically possible to use our previous scoring methods to calculate the performance of this model, those scoring methods are designed for classification tasks and not for regression. Here, we should score our model using metrics better suited to the type of task. We will look at two: Mean Squared Error, and R-squared."
   ]
  },
  {
   "cell_type": "code",
   "execution_count": null,
   "metadata": {
    "id": "76kfn8CnL5N0"
   },
   "outputs": [],
   "source": [
    "from sklearn.metrics import mean_squared_error, r2_score"
   ]
  },
  {
   "cell_type": "code",
   "execution_count": null,
   "metadata": {
    "colab": {
     "base_uri": "https://localhost:8080/"
    },
    "id": "Dak51X-OL5N0",
    "outputId": "a0c1da08-a3b6-4a4e-ae24-310d84f2f3ac"
   },
   "outputs": [],
   "source": [
    "print(\"Mean Squared Error (MSE):\\t%.2f\" % (mean_squared_error(y_test, reg.predict(X_test))))\n",
    "print(\"R-Squared Score:\\t\\t%.2f\" % (r2_score(y_test, reg.predict(X_test))))"
   ]
  },
  {
   "cell_type": "markdown",
   "metadata": {
    "id": "Gu7erV9xL5N0"
   },
   "source": [
    "R-Squared and MSE report two different ways of looking at the model's error. MSE is quite close to the loss function that OLS uses to fit the model in the first place - it calculates the average squared difference between the predicted value of the model, and the true target value. R-Squared, on the other hand, represents how closely the data conforms to the line we have calculated. \n",
    "\n",
    "Now that we have an intuition for how OLS works, let's expand from two dimensions to the full 13 dimensions available in the wine dataset. We will use 12 of the dimensions to predict one of the dimensions: alcohol percentage."
   ]
  },
  {
   "cell_type": "markdown",
   "metadata": {
    "id": "XdfUmndaL5N0"
   },
   "source": [
    "**YOUR TURN** Initialise a Linear Regression model, as above, fit the model to the 12 dimensions which are not `alcohol`, and then calculate the mean squared error and R-squared score on a testing set.\n",
    "\n",
    "* What was the MSE? ______\n",
    "* What was the R-Squared Score? ______\n",
    "* Did the model perform well or poorly? Why? ______"
   ]
  },
  {
   "cell_type": "code",
   "execution_count": null,
   "metadata": {
    "id": "pT66QJwYL5N1"
   },
   "outputs": [],
   "source": [
    "### Your code here\n",
    "#\n",
    "#"
   ]
  },
  {
   "cell_type": "markdown",
   "metadata": {
    "id": "GXDJcbMXL5N1"
   },
   "source": [
    "# Regularization, and ridge regression"
   ]
  },
  {
   "cell_type": "markdown",
   "metadata": {
    "id": "CSmyuQfeL5N1"
   },
   "source": [
    "Finally, we are going to look at one other type of linear regression model: Ridge regression. OLS has a fundamental flaw, which is that it can _overfit_ to the training data. This means that aspects of the data which are in fact noise can become built into the prediction, causing errors when making new predictions that have different noise.\n",
    "\n",
    "Ridge regression addresses this issue by adding a _regularisation_ term to the cost function:\n",
    "\n",
    "$$min_w||Xw-y||^2_2 + \\big(\\lambda * ||w||^2_2\\big)$$\n",
    "\n",
    "The regularisation term is on the right. This forces the model to minimize not just the prediction error, but also the size of the weights. But why do we want this? You may be familiar with the concept of Occam's razor. This principle says that whenever you have more than one possible explanation for a phenomenon, you should prefer the simplest explanation. Regularization enables us to encode this principle mathematically - a simpler explanation, even one that is technically worse on the training data, is preferred over a more complex solution which may be making too many assumptions. This helps us to _generalize_ to unseen data, by making as few assumptions as possible from our training set.\n",
    "\n",
    "The $\\lambda$ here dictates how important the regularisation term is to the cost function. Set it to zero, and the regularizer is ignored - our weights can be as big as the model could possibly dream of. Set it _too_ high, however, and the model will care more about keeping the weights small than it will about getting good performance. A healthy balance is required, and differs between different problems. \n",
    "\n",
    "If the weights that are calculated by the model are _parameters_, then we refer to weights like $\\lambda$ - which are set by us and not the model - as _hyper-parameters_. Hyper-parameter tuning is an important part of developing a model, and can make massive improvements in performance if done well."
   ]
  },
  {
   "cell_type": "markdown",
   "metadata": {
    "id": "mhrMmy4RL5N1"
   },
   "source": [
    "# Acknowledgements"
   ]
  },
  {
   "cell_type": "markdown",
   "metadata": {
    "id": "mMeceARfL5N1"
   },
   "source": [
    "https://jakevdp.github.io/PythonDataScienceHandbook/05.07-support-vector-machines.html\n",
    "\n",
    "https://jonathonbechtel.com/blog/2018/02/06/wines/"
   ]
  }
 ],
 "metadata": {
  "colab": {
   "name": "lab-1-2-svms.ipynb",
   "provenance": []
  },
  "kernelspec": {
   "display_name": "Python 3 (ipykernel)",
   "language": "python",
   "name": "python3"
  },
  "language_info": {
   "codemirror_mode": {
    "name": "ipython",
    "version": 3
   },
   "file_extension": ".py",
   "mimetype": "text/x-python",
   "name": "python",
   "nbconvert_exporter": "python",
   "pygments_lexer": "ipython3",
   "version": "3.8.12"
  }
 },
 "nbformat": 4,
 "nbformat_minor": 4
}
