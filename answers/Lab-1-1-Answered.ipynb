{
 "cells": [
  {
   "cell_type": "markdown",
   "metadata": {
    "id": "PFfPLA-2EOTu"
   },
   "source": [
    "In this lab, we will be using the popular machine learning library [scikit-learn](https://scikit-learn.org/stable/) in tandem with a popular scientific computing library in Python, [NumPy](https://www.numpy.org/), to investigate basic machine learning principles and models. The topics that will be covered in this lab include:\n",
    "* Introduction to scikit-learn and NumPy\n",
    "* Exploratory data analysis (EDA)\n",
    "* Nearest neighbors classification algorithm\n",
    "* Nested cross-validation\n",
    "\n",
    "*Note:* Some other useful Python libraries include [matplotlib](https://matplotlib.org/) (for plotting/graphing) and [Pandas](https://pandas.pydata.org/) (for data analysis), though we won't be going into detail on these in this lab. \n",
    "\n",
    "##### Notebooks\n",
    "This lab will be using notebooks as a Python development environment. Hopefully you're somewhat familiar with them. Write your code in *cells* (this is a cell!) and execute your code by pressing the *play* button (up top) or by entering *shift+enter*. To format a cell for text, you can select \"Markdown\" from the dropdown - the default formatting is \"Code\", which will usually be what you want. \n",
    "\n",
    "#### Getting started\n",
    "Let's get started. First, we're going to test that we're able to import the required libraries.  \n",
    "**>> Run the code in the next cells** to import scikit-learn and NumPy."
   ]
  },
  {
   "cell_type": "code",
   "execution_count": 1,
   "outputs": [],
   "source": [
    "# Check if we are running on Google Colab, or locally\n",
    "import sys\n",
    "\n",
    "IN_COLAB = \"google.colab\" in sys.modules"
   ],
   "metadata": {
    "collapsed": false,
    "ExecuteTime": {
     "end_time": "2023-08-28T12:43:01.540017Z",
     "start_time": "2023-08-28T12:43:01.535953Z"
    }
   }
  },
  {
   "cell_type": "code",
   "execution_count": 2,
   "outputs": [
    {
     "name": "stdout",
     "output_type": "stream",
     "text": [
      "\u001B[31mERROR: pip's dependency resolver does not currently take into account all the packages that are installed. This behaviour is the source of the following dependency conflicts.\r\n",
      "numba 0.57.1 requires numpy<1.25,>=1.21, but you have numpy 1.25.2 which is incompatible.\u001B[0m\u001B[31m\r\n",
      "\u001B[0m"
     ]
    }
   ],
   "source": [
    "if not IN_COLAB:  # Colab already has these installed\n",
    "    !pip install -q numpy scikit-learn matplotlib seaborn"
   ],
   "metadata": {
    "collapsed": false,
    "ExecuteTime": {
     "end_time": "2023-08-28T12:38:59.999415Z",
     "start_time": "2023-08-28T12:38:52.701279Z"
    }
   }
  },
  {
   "cell_type": "code",
   "execution_count": 2,
   "metadata": {
    "colab": {
     "base_uri": "https://localhost:8080/"
    },
    "id": "SFhv0y38EOTv",
    "outputId": "dfac40ee-58bb-4c1e-d5c9-9477c587659e",
    "ExecuteTime": {
     "end_time": "2023-08-28T12:43:04.529692Z",
     "start_time": "2023-08-28T12:43:04.061692Z"
    }
   },
   "outputs": [],
   "source": [
    "import numpy as np\n",
    "import seaborn as sns\n",
    "import matplotlib.pyplot as plt\n",
    "\n",
    "from sklearn.datasets import load_iris\n",
    "from sklearn.neighbors import KNeighborsClassifier\n",
    "from sklearn.metrics import accuracy_score\n",
    "from sklearn.model_selection import train_test_split, cross_val_score"
   ]
  },
  {
   "cell_type": "markdown",
   "metadata": {
    "id": "i6EJDXQ2EOTx"
   },
   "source": [
    "### NumPy Basics\n",
    "\n",
    "Great. Let's move on to our next topic: getting a handle on NumPy basics. You can think of NumPy as sort of like a MATLAB for Python (if that helps). The main object is multidimensional arrays, and these come in particularly handy when working with data and machine learning algorithms.\n",
    "\n",
    "Let's create a 2x4 array containing the numbers 1 through 8 and conduct some basic operations on it.  \n",
    "**>> Run the code in the next cell to create and print the array.***"
   ]
  },
  {
   "cell_type": "code",
   "execution_count": 3,
   "metadata": {
    "colab": {
     "base_uri": "https://localhost:8080/"
    },
    "id": "cQxQkId8EOTx",
    "outputId": "eac95daa-2c34-4dde-8b8d-fd2e00cd9cb5",
    "ExecuteTime": {
     "end_time": "2023-08-28T12:43:06.441036Z",
     "start_time": "2023-08-28T12:43:06.388588Z"
    }
   },
   "outputs": [
    {
     "data": {
      "text/plain": "array([[0, 1, 2, 3],\n       [4, 5, 6, 7]])"
     },
     "execution_count": 3,
     "metadata": {},
     "output_type": "execute_result"
    }
   ],
   "source": [
    "array_2x4 = np.arange(8).reshape(2, 4)\n",
    "array_2x4"
   ]
  },
  {
   "cell_type": "markdown",
   "metadata": {
    "id": "zmbEmYFPEOTz"
   },
   "source": [
    "We can access the shape, number of dimensions, data type, and number of elements in our array as follows:  \n",
    "*(Tip: use \"print()\" when you want a cell to output more than one thing, or you want to append text to your output, otherwise the cell will output the last object you call, as in the cell above)*"
   ]
  },
  {
   "cell_type": "code",
   "execution_count": 4,
   "metadata": {
    "colab": {
     "base_uri": "https://localhost:8080/"
    },
    "id": "VIuwFnemEOTz",
    "outputId": "9fad6c3e-f102-4738-ff8f-908da5b4364a",
    "ExecuteTime": {
     "end_time": "2023-08-28T12:43:07.205349Z",
     "start_time": "2023-08-28T12:43:07.033385Z"
    }
   },
   "outputs": [
    {
     "name": "stdout",
     "output_type": "stream",
     "text": [
      "Shape: (2, 4)\n",
      "Dimensions: 2\n",
      "Data type: int64\n",
      "Number of elements: 8\n"
     ]
    }
   ],
   "source": [
    "# f-strings are a way to embed expressions inside string literals, using curly braces {}.\n",
    "# The expressions inside the braces are evaluated at runtime and then formatted using the format string syntax.\n",
    "print(f\"Shape: {array_2x4.shape}\")\n",
    "print(f\"Dimensions: {array_2x4.ndim}\")\n",
    "print(f\"Data type: {array_2x4.dtype.name}\")\n",
    "print(f\"Number of elements: {array_2x4.size}\")"
   ]
  },
  {
   "cell_type": "markdown",
   "metadata": {
    "id": "Q-y0kkdeEOT0"
   },
   "source": [
    "If we have a Python list containing a set of numbers, we can use it to create an array:"
   ]
  },
  {
   "cell_type": "code",
   "execution_count": 5,
   "metadata": {
    "colab": {
     "base_uri": "https://localhost:8080/"
    },
    "id": "MTl7XGG2EOT1",
    "outputId": "1b592f1b-1d85-4684-de6c-f746b945cd15",
    "ExecuteTime": {
     "end_time": "2023-08-28T12:43:08.243762Z",
     "start_time": "2023-08-28T12:43:08.207148Z"
    }
   },
   "outputs": [
    {
     "data": {
      "text/plain": "array([ 0,  1,  1,  2,  3,  5,  8, 13, 21])"
     },
     "execution_count": 5,
     "metadata": {},
     "output_type": "execute_result"
    }
   ],
   "source": [
    "# You can easily create a NumPy array from a regular Python list. This can be useful when working with sequences of numerical data.\n",
    "# Here, we will create a NumPy array from a list containing the first nine numbers of the Fibonacci sequence.\n",
    "\n",
    "fibonacci_list = [0, 1, 1, 2, 3, 5, 8, 13, 21]\n",
    "fibonacci_array = np.array(fibonacci_list)\n",
    "fibonacci_array"
   ]
  },
  {
   "cell_type": "markdown",
   "metadata": {
    "id": "qz0g0_mYEOT2"
   },
   "source": [
    "And we can do it for nested lists as well, creating multidimensional NumPy arrays:"
   ]
  },
  {
   "cell_type": "code",
   "execution_count": 6,
   "metadata": {
    "colab": {
     "base_uri": "https://localhost:8080/"
    },
    "id": "NAZUXTYcEOT2",
    "outputId": "8293931a-bc10-461a-e557-a7c554375a38",
    "ExecuteTime": {
     "end_time": "2023-08-28T12:43:08.675778Z",
     "start_time": "2023-08-28T12:43:08.643944Z"
    }
   },
   "outputs": [
    {
     "data": {
      "text/plain": "array([[1, 2, 3],\n       [4, 5, 6]])"
     },
     "execution_count": 6,
     "metadata": {},
     "output_type": "execute_result"
    }
   ],
   "source": [
    "two_d_list = [[1, 2, 3], [4, 5, 6]]\n",
    "two_d_array = np.array(two_d_list)\n",
    "two_d_array"
   ]
  },
  {
   "cell_type": "markdown",
   "metadata": {
    "id": "E1bkuyDAEOT3"
   },
   "source": [
    "We can also index and slice NumPy arrays like we would do with a Python list or another container object as follows:"
   ]
  },
  {
   "cell_type": "code",
   "execution_count": 7,
   "metadata": {
    "colab": {
     "base_uri": "https://localhost:8080/"
    },
    "id": "JnZjmyCqEOT3",
    "outputId": "db7d0be3-8cc7-4363-f570-b3b69bbf0219",
    "ExecuteTime": {
     "end_time": "2023-08-28T12:43:09.669622Z",
     "start_time": "2023-08-28T12:43:09.635977Z"
    }
   },
   "outputs": [
    {
     "name": "stdout",
     "output_type": "stream",
     "text": [
      "Originally: [0 1 2 3 4 5 6 7 8 9]\n",
      "First four elements: [0 1 2 3]\n",
      "After the first four elements: [4 5 6 7 8 9]\n",
      "The last element: 9\n"
     ]
    }
   ],
   "source": [
    "array_one_dim = np.arange(10)\n",
    "print(f\"Originally: {array_one_dim}\")\n",
    "print(f\"First four elements: {array_one_dim[:4]}\")\n",
    "print(f\"After the first four elements: {array_one_dim[4:]}\")\n",
    "print(f\"The last element: {array_one_dim[-1]}\")"
   ]
  },
  {
   "cell_type": "markdown",
   "metadata": {
    "id": "Lp6nck2REOT4"
   },
   "source": [
    "And we can index/slice multidimensional arrays, too."
   ]
  },
  {
   "cell_type": "code",
   "execution_count": 8,
   "metadata": {
    "colab": {
     "base_uri": "https://localhost:8080/"
    },
    "id": "EdLxn49WEOT4",
    "outputId": "09f0e7d5-9e95-4bd7-bfa9-5258e81279da",
    "ExecuteTime": {
     "end_time": "2023-08-28T12:43:10.403670Z",
     "start_time": "2023-08-28T12:43:10.375142Z"
    }
   },
   "outputs": [
    {
     "name": "stdout",
     "output_type": "stream",
     "text": [
      "Originally:\n",
      "[[1 2 3]\n",
      " [4 5 6]]\n",
      "First row only: [1 2 3]\n",
      "First column only: [1 4]\n"
     ]
    }
   ],
   "source": [
    "# The syntax `array[:,0]` for example, accesses the first element of each row (i.e., the first column).\n",
    "\n",
    "multi_array = np.array([[1, 2, 3], [4, 5, 6]])\n",
    "print(f\"Originally:\\n{multi_array}\")\n",
    "print(f\"First row only: {multi_array[0]}\")\n",
    "print(f\"First column only: {multi_array[:, 0]}\")"
   ]
  },
  {
   "cell_type": "markdown",
   "metadata": {
    "id": "rQYx2QXiEOT5"
   },
   "source": [
    "#### Sneak preview\n",
    "\n",
    "Often, when designing a machine learning classifier, it can be useful to compare an array of predictions (0 or 1 values) to another array of true values. We can do this pretty easily in NumPy to compute the *accuracy* (e.g., the number of values that are the same), for example, as follows:"
   ]
  },
  {
   "cell_type": "code",
   "execution_count": 9,
   "metadata": {
    "colab": {
     "base_uri": "https://localhost:8080/"
    },
    "id": "_rzMxsmLEOT5",
    "outputId": "5c6c88c0-42de-457a-b99a-650087761b36",
    "ExecuteTime": {
     "end_time": "2023-08-28T12:43:11.270847Z",
     "start_time": "2023-08-28T12:43:11.255224Z"
    }
   },
   "outputs": [
    {
     "name": "stdout",
     "output_type": "stream",
     "text": [
      "Accuracy: 70.0%\n"
     ]
    }
   ],
   "source": [
    "# We are comparing two arrays to find the 'accuracy', which is the proportion of matching elements.\n",
    "# In a machine learning context, this might represent the percentage of correct predictions.\n",
    "\n",
    "true_values = [0, 0, 1, 1, 1, 1, 1, 0, 1, 0]\n",
    "predictions = [0, 0, 0, 1, 1, 1, 0, 1, 1, 0]\n",
    "\n",
    "true_values_array = np.array(true_values)\n",
    "predictions_array = np.array(predictions)\n",
    "\n",
    "# Using NumPy's mean function to compute accuracy\n",
    "accuracy = np.mean(true_values_array == predictions_array)\n",
    "print(f\"Accuracy: {accuracy * 100}%\")"
   ]
  },
  {
   "cell_type": "markdown",
   "metadata": {
    "id": "pDNpaymPEOT5"
   },
   "source": [
    "In the previous cell, we took two Python lists, converted them to NumPy arrays, and then used a combination of np.sum() and .size to compute the accuracy (proportion of elements that are pairwise equal). A tiny bit more advanced, but demonstrates the power of NumPy arrays."
   ]
  },
  {
   "cell_type": "markdown",
   "metadata": {
    "id": "mmNWbLweEOT6"
   },
   "source": [
    "### Scikit-learn Basics\n",
    "\n",
    "Scikit-learn is a great library to use for doing machine learning in Python. Data preparation, exploratory data analysis (EDA), classification, regression, clustering; it has it all. \n",
    "\n",
    "Scikit-learn usually expects data to be in the form of a 2D matrix with dimensions *n_samples x n_features* with an additional column for the target. To get acquainted with scikit-learn, we are going to use the [iris dataset](https://archive.ics.uci.edu/ml/datasets/iris), one of the most famous datasets in pattern recognition. \n",
    "\n",
    "Each entry in the dataset represents an iris plant, and is categorized as: \n",
    "\n",
    "* Setosa (class 0)\n",
    "* Versicolor (class 1)\n",
    "* Virginica (class 2)\n",
    "\n",
    "These represent the target classes to predict. Each entry also includes a set of features, namely:\n",
    "\n",
    "* Sepal width (cm)\n",
    "* Sepal length (cm)\n",
    "* Petal length (cm)\n",
    "* Petal width (cm)\n",
    "\n",
    "In the context of machine learning classification, the remainder of the lab is going to investigate the following question:  \n",
    "*Can we design a model that, based on the iris sample features, can accurately predict the iris sample class? *\n",
    "\n",
    "Scikit-learn has a copy of the iris dataset readily importable for us. Let's grab it now and conduct some EDA."
   ]
  },
  {
   "cell_type": "code",
   "execution_count": 10,
   "metadata": {
    "id": "g2-wyZx6EOT6",
    "ExecuteTime": {
     "end_time": "2023-08-28T12:43:13.134894Z",
     "start_time": "2023-08-28T12:43:13.103366Z"
    }
   },
   "outputs": [],
   "source": [
    "iris_data = load_iris()\n",
    "feature_data = iris_data.data"
   ]
  },
  {
   "cell_type": "markdown",
   "metadata": {
    "id": "tr3OodXEEOT6"
   },
   "source": [
    "**YOUR TURN:** \"feature_data\" now contains the feature data for all of the iris samples. \n",
    "* What is the shape of this feature data? (150,4)\n",
    "* The data type? float64\n",
    "* How many samples are there? 150\n",
    "* How many features are there? 4"
   ]
  },
  {
   "cell_type": "code",
   "execution_count": 11,
   "metadata": {
    "colab": {
     "base_uri": "https://localhost:8080/"
    },
    "id": "dGSb93AUEOT7",
    "outputId": "b7b1f98e-5483-4040-ba35-a9afb98b43c9",
    "ExecuteTime": {
     "end_time": "2023-08-28T12:43:47.557167Z",
     "start_time": "2023-08-28T12:43:47.523392Z"
    }
   },
   "outputs": [
    {
     "name": "stdout",
     "output_type": "stream",
     "text": [
      "Shape: (150, 4)\n",
      "Data type: float64\n",
      "Number of samples: 150\n",
      "Number of features: 4\n"
     ]
    }
   ],
   "source": [
    "print(f'Shape: {feature_data.shape}')\n",
    "print(f'Data type: {feature_data.dtype.name}')\n",
    "print(f'Number of samples: {feature_data.shape[0]}')\n",
    "print(f'Number of features: {feature_data.shape[1]}')"
   ]
  },
  {
   "cell_type": "markdown",
   "metadata": {
    "id": "ADPK_IktEOT7"
   },
   "source": [
    "Next, we will save the target classification data in a similar fashion."
   ]
  },
  {
   "cell_type": "code",
   "execution_count": 12,
   "metadata": {
    "id": "txwjzkomEOT7",
    "ExecuteTime": {
     "end_time": "2023-08-28T12:44:08.171337Z",
     "start_time": "2023-08-28T12:44:08.155379Z"
    }
   },
   "outputs": [],
   "source": [
    "target_data = iris_data.target\n",
    "target_names = iris_data.target_names"
   ]
  },
  {
   "cell_type": "markdown",
   "metadata": {
    "id": "iNjpq5XcEOT8"
   },
   "source": [
    "**YOUR TURN:**\n",
    "* What values are in \"target_data\"? Zero, one, and two, representing the three classes\n",
    "* What is the data type? int64\n",
    "* What values are in \"target_names\"? 'setosa', 'versicolor', and 'virginica' - the names of the three classes\n",
    "* What is the data type? str320\n",
    "* How many samples are of type \"setosa\"? 50"
   ]
  },
  {
   "cell_type": "code",
   "execution_count": 13,
   "metadata": {
    "colab": {
     "base_uri": "https://localhost:8080/"
    },
    "id": "Qbk1mRqYEOT8",
    "outputId": "cb768dbe-3ca7-4e0e-85e2-acaaf24bfc32",
    "ExecuteTime": {
     "end_time": "2023-08-28T12:44:23.589014Z",
     "start_time": "2023-08-28T12:44:23.573443Z"
    }
   },
   "outputs": [
    {
     "name": "stdout",
     "output_type": "stream",
     "text": [
      "Target data: [0 0 0 0 0 0 0 0 0 0 0 0 0 0 0 0 0 0 0 0 0 0 0 0 0 0 0 0 0 0 0 0 0 0 0 0 0\n",
      " 0 0 0 0 0 0 0 0 0 0 0 0 0 1 1 1 1 1 1 1 1 1 1 1 1 1 1 1 1 1 1 1 1 1 1 1 1\n",
      " 1 1 1 1 1 1 1 1 1 1 1 1 1 1 1 1 1 1 1 1 1 1 1 1 1 1 2 2 2 2 2 2 2 2 2 2 2\n",
      " 2 2 2 2 2 2 2 2 2 2 2 2 2 2 2 2 2 2 2 2 2 2 2 2 2 2 2 2 2 2 2 2 2 2 2 2 2\n",
      " 2 2]\n",
      "Target data type: int64\n",
      "Target names: ['setosa' 'versicolor' 'virginica']\n",
      "Target names data type: str320\n",
      "Number of samples of type \"setosa\": 50\n"
     ]
    }
   ],
   "source": [
    "print(f'Target data: {target_data}')\n",
    "print(f'Target data type: {target_data.dtype.name}')\n",
    "print(f'Target names: {target_names}')\n",
    "print(f'Target names data type: {target_names.dtype.name}')\n",
    "print(f'Number of samples of type \"setosa\": {np.sum(target_data == 0)}')"
   ]
  },
  {
   "cell_type": "markdown",
   "metadata": {
    "id": "DZkEii2tEOT8"
   },
   "source": [
    "We can also do some more visual EDA by plotting the samples according to a subset of the features and coloring the data points to coincide with the sample classification. We will use [matplotlib](https://matplotlib.org/), a powerful plotting library within Python, to accomplish this.\n",
    "\n",
    "For example, let's plot sepal width vs. sepal length.\n"
   ]
  },
  {
   "cell_type": "code",
   "execution_count": 14,
   "metadata": {
    "colab": {
     "base_uri": "https://localhost:8080/",
     "height": 313
    },
    "id": "yctO8uMCEOT9",
    "outputId": "8cb50903-b2d4-4a13-8c4a-ce55f299ebec",
    "ExecuteTime": {
     "end_time": "2023-08-28T12:44:59.224504Z",
     "start_time": "2023-08-28T12:44:58.878809Z"
    }
   },
   "outputs": [
    {
     "data": {
      "text/plain": "<Figure size 640x480 with 1 Axes>",
      "image/png": "[encoded data removed]"
     },
     "metadata": {},
     "output_type": "display_data"
    }
   ],
   "source": [
    "# Preparing data for Seaborn plotting\n",
    "setosa = feature_data[target_data == 0]\n",
    "versicolor = feature_data[target_data == 1]\n",
    "virginica = feature_data[target_data == 2]\n",
    "\n",
    "# Plotting setosa\n",
    "sns.scatterplot(x=setosa[:, 0], y=setosa[:, 1], label=\"setosa\")\n",
    "\n",
    "# Plotting versicolor\n",
    "sns.scatterplot(x=versicolor[:, 0], y=versicolor[:, 1], label=\"versicolor\")\n",
    "\n",
    "# Plotting virginica\n",
    "sns.scatterplot(x=virginica[:, 0], y=virginica[:, 1], label=\"virginica\")\n",
    "\n",
    "# Adding labels and title\n",
    "plt.xlabel(\"sepal length (cm)\")\n",
    "plt.ylabel(\"sepal width (cm)\")\n",
    "plt.title(\"Visual EDA\")\n",
    "plt.legend(title=\"Class\")\n",
    "plt.show()  # Sometimes this explicit call is optional - depends on your environment"
   ]
  },
  {
   "cell_type": "markdown",
   "metadata": {
    "id": "WZruiACNEOT9"
   },
   "source": [
    "In the above step, we used boolean indexing to filter the feature data based on the target data class. This allowed us to create a scatter plot for each of the iris classes and distinguish them by color.\n",
    "\n",
    "*Observations*: We can see that the \"setosa\" class typically consists of medium-to-high sepal width with low-to-medium sepal length, while the other two classes have lower width and higher length. The \"virginica\" class appears to have the largest combination of the two. \n",
    "\n",
    "**YOUR TURN:** \n",
    "* Which of the iris classes is seperable based on sepal characteristics? Setosa\n",
    "* Which of the iris classes is not? Versicolor and virginica\n",
    "* Can we (easily) visualize each of the samples w.r.t. all features on the same plot? Why/why not? No, because there are four features, and we can only visualize two at a time."
   ]
  },
  {
   "cell_type": "markdown",
   "metadata": {
    "id": "J08LHtoJEOT9"
   },
   "source": [
    "### Creating a k-Nearest Neighbors Classifier\n",
    "\n",
    "Now that we've explored the data a little bit, we're going to use scikit-learn to create a k-nearest neighbors classifier for the data. Effectively we'll be developing a model whose job it is to build a relationship over input feature data (sepal and petal characteristics) that predicts the iris sample class (e.g. \"setosa\"). This is an example of a *supervised learning* task; we have all the features and all the target classes.\n",
    "\n",
    "Nearest neightbors classifiers are quite simple. They predict the class of a new data sample based off the *nearest* data points to that sample. The 'nearest' metric is calculated via a distance function (often [Euclidean distance](https://en.wikipedia.org/wiki/Euclidean_distance)). \n",
    "\n",
    "<img src=\"https://github.com/lyeskhalil/mlbootcamp/blob/master/img/knn.png?raw=1\" alt=\"knn\" width=\"200\"/>\n",
    "\n",
    "For example, in the above diagram, suppose we are looking to classify the green circle as either a red triangle, or a blue square. If k = 1 (i.e., we look at one neighbor), our model would predict *red triangle*. If k=2, it would still predict *red triangle*. If k=3, the model would predict *red triangle* as it is the *majority* class of the 3 nearest neighbors. It isn't until k=5 that the algorithm actually predicts *blue square*.\n",
    "\n",
    "Model creation in scikit-learn follows a **data prep -> fit -> predict** process. The \"fit\" function is where the actual model is trained and parameter values are selected, while the \"predict\" function actually takes the trained model and applies it to the new samples.\n",
    "\n",
    "First, we're going to save our feature data into an array called 'X' and our target data into an array called 'y'. We don't *need* to do this, but it is traditional to think of the problem using this notation."
   ]
  },
  {
   "cell_type": "code",
   "execution_count": 15,
   "metadata": {
    "id": "FszkYRkUEOT-",
    "ExecuteTime": {
     "end_time": "2023-08-28T12:46:43.106721Z",
     "start_time": "2023-08-28T12:46:43.081479Z"
    }
   },
   "outputs": [],
   "source": [
    "X = feature_data\n",
    "y = target_data"
   ]
  },
  {
   "cell_type": "markdown",
   "metadata": {
    "id": "sbdtLoJWEOT-"
   },
   "source": [
    "Next, we create our nearest neighbor classifier object:"
   ]
  },
  {
   "cell_type": "code",
   "execution_count": 16,
   "metadata": {
    "id": "g0Lb8XqPEOT-",
    "ExecuteTime": {
     "end_time": "2023-08-28T12:46:43.746934Z",
     "start_time": "2023-08-28T12:46:43.736341Z"
    }
   },
   "outputs": [],
   "source": [
    "knn = KNeighborsClassifier(n_neighbors=1)"
   ]
  },
  {
   "cell_type": "markdown",
   "metadata": {
    "id": "jP4eJurlEOT_"
   },
   "source": [
    "And then we *fit* it to the data (i.e., train the classifier)."
   ]
  },
  {
   "cell_type": "code",
   "execution_count": 17,
   "metadata": {
    "colab": {
     "base_uri": "https://localhost:8080/"
    },
    "id": "pYEdSgbfEOT_",
    "outputId": "93c715ff-b692-44fe-df5b-31fb160699c4",
    "ExecuteTime": {
     "end_time": "2023-08-28T12:46:44.995249Z",
     "start_time": "2023-08-28T12:46:44.967348Z"
    }
   },
   "outputs": [
    {
     "data": {
      "text/plain": "KNeighborsClassifier(n_neighbors=1)",
      "text/html": "<style>#sk-container-id-1 {color: black;}#sk-container-id-1 pre{padding: 0;}#sk-container-id-1 div.sk-toggleable {background-color: white;}#sk-container-id-1 label.sk-toggleable__label {cursor: pointer;display: block;width: 100%;margin-bottom: 0;padding: 0.3em;box-sizing: border-box;text-align: center;}#sk-container-id-1 label.sk-toggleable__label-arrow:before {content: \"▸\";float: left;margin-right: 0.25em;color: #696969;}#sk-container-id-1 label.sk-toggleable__label-arrow:hover:before {color: black;}#sk-container-id-1 div.sk-estimator:hover label.sk-toggleable__label-arrow:before {color: black;}#sk-container-id-1 div.sk-toggleable__content {max-height: 0;max-width: 0;overflow: hidden;text-align: left;background-color: #f0f8ff;}#sk-container-id-1 div.sk-toggleable__content pre {margin: 0.2em;color: black;border-radius: 0.25em;background-color: #f0f8ff;}#sk-container-id-1 input.sk-toggleable__control:checked~div.sk-toggleable__content {max-height: 200px;max-width: 100%;overflow: auto;}#sk-container-id-1 input.sk-toggleable__control:checked~label.sk-toggleable__label-arrow:before {content: \"▾\";}#sk-container-id-1 div.sk-estimator input.sk-toggleable__control:checked~label.sk-toggleable__label {background-color: #d4ebff;}#sk-container-id-1 div.sk-label input.sk-toggleable__control:checked~label.sk-toggleable__label {background-color: #d4ebff;}#sk-container-id-1 input.sk-hidden--visually {border: 0;clip: rect(1px 1px 1px 1px);clip: rect(1px, 1px, 1px, 1px);height: 1px;margin: -1px;overflow: hidden;padding: 0;position: absolute;width: 1px;}#sk-container-id-1 div.sk-estimator {font-family: monospace;background-color: #f0f8ff;border: 1px dotted black;border-radius: 0.25em;box-sizing: border-box;margin-bottom: 0.5em;}#sk-container-id-1 div.sk-estimator:hover {background-color: #d4ebff;}#sk-container-id-1 div.sk-parallel-item::after {content: \"\";width: 100%;border-bottom: 1px solid gray;flex-grow: 1;}#sk-container-id-1 div.sk-label:hover label.sk-toggleable__label {background-color: #d4ebff;}#sk-container-id-1 div.sk-serial::before {content: \"\";position: absolute;border-left: 1px solid gray;box-sizing: border-box;top: 0;bottom: 0;left: 50%;z-index: 0;}#sk-container-id-1 div.sk-serial {display: flex;flex-direction: column;align-items: center;background-color: white;padding-right: 0.2em;padding-left: 0.2em;position: relative;}#sk-container-id-1 div.sk-item {position: relative;z-index: 1;}#sk-container-id-1 div.sk-parallel {display: flex;align-items: stretch;justify-content: center;background-color: white;position: relative;}#sk-container-id-1 div.sk-item::before, #sk-container-id-1 div.sk-parallel-item::before {content: \"\";position: absolute;border-left: 1px solid gray;box-sizing: border-box;top: 0;bottom: 0;left: 50%;z-index: -1;}#sk-container-id-1 div.sk-parallel-item {display: flex;flex-direction: column;z-index: 1;position: relative;background-color: white;}#sk-container-id-1 div.sk-parallel-item:first-child::after {align-self: flex-end;width: 50%;}#sk-container-id-1 div.sk-parallel-item:last-child::after {align-self: flex-start;width: 50%;}#sk-container-id-1 div.sk-parallel-item:only-child::after {width: 0;}#sk-container-id-1 div.sk-dashed-wrapped {border: 1px dashed gray;margin: 0 0.4em 0.5em 0.4em;box-sizing: border-box;padding-bottom: 0.4em;background-color: white;}#sk-container-id-1 div.sk-label label {font-family: monospace;font-weight: bold;display: inline-block;line-height: 1.2em;}#sk-container-id-1 div.sk-label-container {text-align: center;}#sk-container-id-1 div.sk-container {/* jupyter's `normalize.less` sets `[hidden] { display: none; }` but bootstrap.min.css set `[hidden] { display: none !important; }` so we also need the `!important` here to be able to override the default hidden behavior on the sphinx rendered scikit-learn.org. See: https://github.com/scikit-learn/scikit-learn/issues/21755 */display: inline-block !important;position: relative;}#sk-container-id-1 div.sk-text-repr-fallback {display: none;}</style><div id=\"sk-container-id-1\" class=\"sk-top-container\"><div class=\"sk-text-repr-fallback\"><pre>KNeighborsClassifier(n_neighbors=1)</pre><b>In a Jupyter environment, please rerun this cell to show the HTML representation or trust the notebook. <br />On GitHub, the HTML representation is unable to render, please try loading this page with nbviewer.org.</b></div><div class=\"sk-container\" hidden><div class=\"sk-item\"><div class=\"sk-estimator sk-toggleable\"><input class=\"sk-toggleable__control sk-hidden--visually\" id=\"sk-estimator-id-1\" type=\"checkbox\" checked><label for=\"sk-estimator-id-1\" class=\"sk-toggleable__label sk-toggleable__label-arrow\">KNeighborsClassifier</label><div class=\"sk-toggleable__content\"><pre>KNeighborsClassifier(n_neighbors=1)</pre></div></div></div></div></div>"
     },
     "execution_count": 17,
     "metadata": {},
     "output_type": "execute_result"
    }
   ],
   "source": [
    "knn.fit(X, y)"
   ]
  },
  {
   "cell_type": "markdown",
   "metadata": {
    "id": "R-zjMUKDEOT_"
   },
   "source": [
    "Now we have a model! If you're new to this, you've officially built your first machine learning model. If you use \"knn.predict(*[[feature array here]]*)\", you can use your trained model to predict the class of a new iris sample. \n",
    "\n",
    "**YOUR TURN:**\n",
    "* What is the predicted class of a new iris sample with feature vector [3,4,5,2]? What is its name? 2, virginica\n",
    "* Do you think this model is overfit or underfit to the iris dataset? Why? Underfit, because it only considers one neighbor - this means it's very sensitive to outliers and noise in the data.\n",
    "* How many neighbors does our model consider when classifying a new sample? 1"
   ]
  },
  {
   "cell_type": "code",
   "execution_count": 19,
   "metadata": {
    "colab": {
     "base_uri": "https://localhost:8080/"
    },
    "id": "cqfuCWd0I5GJ",
    "outputId": "f0ae06b0-db08-4512-c542-e672cb0fccb9",
    "ExecuteTime": {
     "end_time": "2023-08-28T12:47:30.372533Z",
     "start_time": "2023-08-28T12:47:30.366854Z"
    }
   },
   "outputs": [
    {
     "name": "stdout",
     "output_type": "stream",
     "text": [
      "Predicted class: [2]\n"
     ]
    }
   ],
   "source": [
    "print(f'Predicted class: {knn.predict([[3,4,5,2]])}')"
   ]
  },
  {
   "cell_type": "markdown",
   "metadata": {
    "id": "tECGB052EOUA"
   },
   "source": [
    "As you may have noted in the previous cell, we've trained this classifier on our *entire dataset*. This typically isn't done in practice and results in overfitting to the data. Here's a bit of a tricky question:\n",
    "\n",
    "**YOUR TURN:**\n",
    "* If we use our classifier to predict the classes of the iris samples that were used to train the model itself, what will our overall accuracy be? 100%, because the model has already seen the data it's trying to predict.\n",
    "\n",
    "We can validate our hypothesis fairly easily using either: i) the NumPy technique for calculating accuracy we used earlier in the lab, or ii) scikit-learn's in-house \"accuracy_score()\" function.\n",
    "\n",
    "Let's use our technique first:"
   ]
  },
  {
   "cell_type": "code",
   "execution_count": 20,
   "metadata": {
    "colab": {
     "base_uri": "https://localhost:8080/"
    },
    "id": "W-N4VATDEOUA",
    "outputId": "6c08a15b-f6ed-4d98-948a-6773602bb11a",
    "ExecuteTime": {
     "end_time": "2023-08-28T12:47:41.263780Z",
     "start_time": "2023-08-28T12:47:41.233662Z"
    }
   },
   "outputs": [
    {
     "name": "stdout",
     "output_type": "stream",
     "text": [
      "Accuracy: 100.0%\n"
     ]
    }
   ],
   "source": [
    "accuracy = np.mean(target_data == knn.predict(feature_data))\n",
    "print(f\"Accuracy: {accuracy * 100}%\")"
   ]
  },
  {
   "cell_type": "markdown",
   "metadata": {
    "id": "oa7hUYINEOUA"
   },
   "source": [
    "and then using scikit-learn's customized function:"
   ]
  },
  {
   "cell_type": "code",
   "execution_count": 21,
   "metadata": {
    "colab": {
     "base_uri": "https://localhost:8080/"
    },
    "id": "ZjccX7kiEOUA",
    "outputId": "3d222ae7-5ab2-4fa9-e5f3-e4a1adf60f7d",
    "ExecuteTime": {
     "end_time": "2023-08-28T12:47:42.101460Z",
     "start_time": "2023-08-28T12:47:42.066825Z"
    }
   },
   "outputs": [
    {
     "name": "stdout",
     "output_type": "stream",
     "text": [
      "Accuracy: 100.0%\n"
     ]
    }
   ],
   "source": [
    "accuracy = accuracy_score(target_data, knn.predict(feature_data))\n",
    "print(f\"Accuracy: {accuracy * 100}%\")"
   ]
  },
  {
   "cell_type": "markdown",
   "metadata": {
    "id": "XQnPrUctEOUB"
   },
   "source": [
    "We see that our classifier has achieved 100% accuracy (and both calculation methods agree)!\n",
    "\n",
    "**DISCUSSION:** \n",
    "* Why do you think the model was able to achieve such a \"great\" result? The model was trained on the same data it was tested on, so it's not surprising that it performs well.\n",
    "* What does this really tell us?  Not much - we need to test the model on data it hasn't seen before to get a sense for how it will perform in the real world.\n",
    "* Do you expect the model to perform this well on new data? We can't know for sure, but it's unlikely."
   ]
  },
  {
   "cell_type": "markdown",
   "metadata": {
    "id": "hborziLMEOUB"
   },
   "source": [
    "### Cross Validation\n",
    "\n",
    "A popular way to mitigate this overfitting issue is to train your model on *some* of the data (the training set) and validate your model on the remaining data (the validation set). You will then select the model/configuration that performs best on the validation data. The train/validate division of the data is usually done with a 70%/30% split. Often, practitioners will use a third data set, the test set (or hold-out set), to get a sense for how their best model performs on unseen, real-world data. In this scenario, you will tune your models to perform best on the validation set and then test their \"real-world\" performance on the unseen test set.\n",
    "\n",
    "Sometimes applications don't have enough data to do these splits meaningfully (e.g., the test data is only a few samples). In these cases, *cross-validation* is a useful technique (and, indeed, has become standard in machine learning practice). \n",
    "\n",
    "The general premise of \"k-folds\" cross validation is to first divide the entire dataset (grey) into a training set (green) and a test set (unseen data, blue). Then, we divide the training set into different folds and use these folds to form new sub-training and sub-test sets. We select the model configuration that performs the best on all of these. The below figure provides a nice visualization for what's going on here:\n",
    "\n",
    "<img src=\"https://github.com/lyeskhalil/mlbootcamp/blob/master/img/cross-val.png?raw=1\" alt=\"cross-val\" width=\"500\"/>\n"
   ]
  },
  {
   "cell_type": "markdown",
   "metadata": {
    "id": "0bkMRDNQEOUB"
   },
   "source": [
    "Accomplishing k-folds cross validation in scikit-learn is a manageable task. First, we divide our data into a train and test set, then we conduct the cross validation and look at the mean scores across the splits, then we conduct our final evaluation."
   ]
  },
  {
   "cell_type": "code",
   "execution_count": 22,
   "metadata": {
    "id": "YYpxSDnUEOUB",
    "ExecuteTime": {
     "end_time": "2023-08-28T12:48:18.082086Z",
     "start_time": "2023-08-28T12:48:18.069559Z"
    }
   },
   "outputs": [],
   "source": [
    "X_train, X_test, y_train, y_test = train_test_split(\n",
    "    feature_data, target_data, test_size=0.3, random_state=0\n",
    ")"
   ]
  },
  {
   "cell_type": "markdown",
   "metadata": {
    "id": "v_ifhLoMEOUB"
   },
   "source": [
    "We have divided our data into two sections: training data (70% of the data) and testing data (30% of the data). Now we will fit our nearest neighbors classifier to the training data with 5 folds and see how it performs."
   ]
  },
  {
   "cell_type": "code",
   "execution_count": 23,
   "metadata": {
    "colab": {
     "base_uri": "https://localhost:8080/"
    },
    "id": "6nDnjfaKEOUB",
    "outputId": "c7e9b7cb-eac6-4740-85f2-98461f512925",
    "ExecuteTime": {
     "end_time": "2023-08-28T12:48:18.893390Z",
     "start_time": "2023-08-28T12:48:18.849577Z"
    }
   },
   "outputs": [
    {
     "name": "stdout",
     "output_type": "stream",
     "text": [
      "Accuracy: 0.94 (+/- 0.11)\n"
     ]
    }
   ],
   "source": [
    "scores = cross_val_score(knn, X_train, y_train, cv=5)\n",
    "print(f\"Accuracy: {scores.mean():.2f} (+/- {scores.std() * 1.96:.2f})\")"
   ]
  },
  {
   "cell_type": "markdown",
   "metadata": {
    "id": "kSFriTVTEOUC"
   },
   "source": [
    "Our cross-validated model has an accuracy of 94% across all the splits on the training data. If we think that is a reasonable value, we can train our final model on the training data and then see how it performs on the held-out test data. \n",
    "\n",
    "##### Comparing classifiers\n",
    "However, to get a true sense for the utility of cross-validation, let's create a second nearest neighbors classifier that uses two neighbors instead of one. "
   ]
  },
  {
   "cell_type": "code",
   "execution_count": 24,
   "metadata": {
    "colab": {
     "base_uri": "https://localhost:8080/"
    },
    "id": "WoUmuoWHEOUC",
    "outputId": "ebb092d4-b87f-44d6-94bc-1fb378348fbf",
    "ExecuteTime": {
     "end_time": "2023-08-28T12:48:19.330274Z",
     "start_time": "2023-08-28T12:48:19.299031Z"
    }
   },
   "outputs": [
    {
     "name": "stdout",
     "output_type": "stream",
     "text": [
      "Accuracy: 0.92 (+/- 0.13)\n"
     ]
    }
   ],
   "source": [
    "knn_2_neighbors = KNeighborsClassifier(n_neighbors=2)\n",
    "scores = cross_val_score(knn_2_neighbors, X_train, y_train, cv=5)\n",
    "print(f\"Accuracy: {scores.mean():.2f} (+/- {scores.std() * 1.96:.2f})\")"
   ]
  },
  {
   "cell_type": "markdown",
   "metadata": {
    "id": "w8u2IjDXEOUC"
   },
   "source": [
    "As we see above, our second classifier (the one with two neighbors) actually performs worse when cross-validated (92% vs. 94% mean accuracy on the 5 folds)! So, we'll stick with the first one.\n",
    "\n",
    "Evaluating the model on held-out test data is a critical step in assessing its performance. By using data that the model has not seen during training, we can gauge how well the model generalizes to new, unseen data. This provides a more realistic estimation of how the model would perform in a real-world scenario where it encounters data points it has not seen before.\n",
    "\n",
    "Let's train the chosen model on the training data and use it to predict the final held-out test data. Evaluating on the test data will help us understand the model's ability to generalize, which is a key aspect of a reliable and robust machine learning model."
   ]
  },
  {
   "cell_type": "code",
   "execution_count": 25,
   "metadata": {
    "colab": {
     "base_uri": "https://localhost:8080/"
    },
    "id": "6i7G2Uf6EOUC",
    "outputId": "24fd2349-e68f-4ff8-d4b2-42eb6997f821",
    "ExecuteTime": {
     "end_time": "2023-08-28T12:48:20.137317Z",
     "start_time": "2023-08-28T12:48:20.129544Z"
    }
   },
   "outputs": [
    {
     "name": "stdout",
     "output_type": "stream",
     "text": [
      "Test set accuracy: 97.78%\n"
     ]
    }
   ],
   "source": [
    "knn.fit(X_train, y_train)\n",
    "accuracy = accuracy_score(y_test, knn.predict(X_test))\n",
    "print(f\"Test set accuracy: {accuracy * 100:.2f}%\")"
   ]
  },
  {
   "cell_type": "markdown",
   "metadata": {
    "id": "P5AiO_udEOUD"
   },
   "source": [
    "And we see our model has a 97.8% accuracy on the held out test data (30% of the original dataset).\n",
    "\n",
    "## Bonus Task: Confusion Matrix Analysis\n",
    "\n",
    "A confusion matrix is a table used to describe the performance of a classification model on a set of data for which the true values are known. It is especially powerful for multi-class classification, like our iris dataset.\n",
    "\n",
    "In this bonus task, you will create a confusion matrix for the k-nearest neighbors classifier you trained earlier on the test data. Then, calculate specific metrics like precision, recall, and F1-score for each class. Here's a step-by-step guide to help you get started:\n",
    "\n",
    "1. Predict the Test Data: You've already done this, so you can simply use the predictions you made for the test data. \n",
    "2. Create the Confusion Matrix: You can use scikit-learn's confusion_matrix function for this.\n",
    "3. Analyze the Matrix: Calculate precision, recall, and F1-score for each class. You might find scikit-learn's classification_report helpful or calculate them manually.\n",
    "\n",
    "Below is a snippet to help you create the confusion matrix. The rest is up to you!"
   ]
  },
  {
   "cell_type": "code",
   "execution_count": 26,
   "outputs": [
    {
     "name": "stdout",
     "output_type": "stream",
     "text": [
      "Confusion Matrix:\n",
      "[[16  0  0]\n",
      " [ 0 17  1]\n",
      " [ 0  0 11]]\n"
     ]
    }
   ],
   "source": [
    "from sklearn.metrics import confusion_matrix\n",
    "\n",
    "# Predict the test data\n",
    "y_pred = knn.predict(X_test)\n",
    "\n",
    "# Create the confusion matrix\n",
    "conf_matrix = confusion_matrix(y_test, y_pred)\n",
    "print(\"Confusion Matrix:\")\n",
    "print(conf_matrix)\n",
    "\n",
    "# Now it's your turn to analyze this matrix and calculate precision, recall, and F1-score for each class!"
   ],
   "metadata": {
    "collapsed": false,
    "ExecuteTime": {
     "end_time": "2023-08-28T12:48:22.947230Z",
     "start_time": "2023-08-28T12:48:22.940400Z"
    }
   }
  },
  {
   "cell_type": "code",
   "execution_count": 27,
   "outputs": [
    {
     "name": "stdout",
     "output_type": "stream",
     "text": [
      "Classification Report:\n",
      "              precision    recall  f1-score   support\n",
      "\n",
      "      setosa       1.00      1.00      1.00        16\n",
      "  versicolor       1.00      0.94      0.97        18\n",
      "   virginica       0.92      1.00      0.96        11\n",
      "\n",
      "    accuracy                           0.98        45\n",
      "   macro avg       0.97      0.98      0.98        45\n",
      "weighted avg       0.98      0.98      0.98        45\n"
     ]
    }
   ],
   "source": [
    "# Calculate precision, recall, and F1-score for each class\n",
    "from sklearn.metrics import classification_report\n",
    "\n",
    "print(\"Classification Report:\")\n",
    "print(classification_report(y_test, y_pred, target_names=target_names))\n"
   ],
   "metadata": {
    "collapsed": false,
    "ExecuteTime": {
     "end_time": "2023-08-28T12:48:41.125418Z",
     "start_time": "2023-08-28T12:48:41.078037Z"
    }
   }
  },
  {
   "cell_type": "code",
   "execution_count": null,
   "outputs": [],
   "source": [],
   "metadata": {
    "collapsed": false
   }
  }
 ],
 "metadata": {
  "colab": {
   "name": "lab-1-1-basics.ipynb",
   "provenance": []
  },
  "kernelspec": {
   "display_name": "Python 3 (ipykernel)",
   "language": "python",
   "name": "python3"
  },
  "language_info": {
   "codemirror_mode": {
    "name": "ipython",
    "version": 3
   },
   "file_extension": ".py",
   "mimetype": "text/x-python",
   "name": "python",
   "nbconvert_exporter": "python",
   "pygments_lexer": "ipython3",
   "version": "3.8.12"
  }
 },
 "nbformat": 4,
 "nbformat_minor": 4
}
