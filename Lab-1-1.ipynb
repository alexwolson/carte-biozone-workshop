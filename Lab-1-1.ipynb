{
 "cells": [
  {
   "cell_type": "markdown",
   "source": [
    "[![Open In Colab](https://colab.research.google.com/assets/colab-badge.svg)](https://colab.research.google.com/github/alexwolson/carte-biozone-workshop/blob/main/Lab-1-1.ipynb)\n",
    "\n",
    "# CARTE-BioZone Workshop on Machine Learning\n",
    "#### Monday, August 28, 2023\n",
    "#### Lab 1, Day 1: Introduction\n",
    "##### Lab author: Kyle E.C. Booth, edited by Alex Olson\n",
    "\n",
    "#### Introduction"
   ],
   "metadata": {
    "collapsed": false
   }
  },
  {
   "cell_type": "markdown",
   "metadata": {
    "id": "PFfPLA-2EOTu"
   },
   "source": [
    "In this lab, we will be using the popular machine learning library [scikit-learn](https://scikit-learn.org/stable/) in tandem with a popular scientific computing library in Python, [NumPy](https://www.numpy.org/), to investigate basic machine learning principles and models. The topics that will be covered in this lab include:\n",
    "* Introduction to scikit-learn and NumPy\n",
    "* Exploratory data analysis (EDA)\n",
    "* Nearest neighbors classification algorithm\n",
    "* Nested cross-validation\n",
    "\n",
    "*Note:* Some other useful Python libraries include [matplotlib](https://matplotlib.org/) (for plotting/graphing) and [Pandas](https://pandas.pydata.org/) (for data analysis), though we won't be going into detail on these in this lab. \n",
    "\n",
    "##### Notebooks\n",
    "This lab will be using notebooks as a Python development environment. Hopefully you're somewhat familiar with them. Write your code in *cells* (this is a cell!) and execute your code by pressing the *play* button (up top) or by entering *shift+enter*. To format a cell for text, you can select \"Markdown\" from the dropdown - the default formatting is \"Code\", which will usually be what you want. \n",
    "\n",
    "#### Getting started\n",
    "Let's get started. First, we're going to test that we're able to import the required libraries.  \n",
    "**>> Run the code in the next cells** to import scikit-learn and NumPy."
   ]
  },
  {
   "cell_type": "code",
   "execution_count": null,
   "outputs": [],
   "source": [
    "# Check if we are running on Google Colab, or locally\n",
    "import sys\n",
    "\n",
    "IN_COLAB = \"google.colab\" in sys.modules"
   ],
   "metadata": {
    "collapsed": false
   }
  },
  {
   "cell_type": "code",
   "execution_count": null,
   "outputs": [],
   "source": [
    "if not IN_COLAB:  # Colab already has these installed\n",
    "    !pip install -q numpy scikit-learn matplotlib seaborn"
   ],
   "metadata": {
    "collapsed": false
   }
  },
  {
   "cell_type": "code",
   "execution_count": null,
   "metadata": {
    "colab": {
     "base_uri": "https://localhost:8080/"
    },
    "id": "SFhv0y38EOTv",
    "outputId": "dfac40ee-58bb-4c1e-d5c9-9477c587659e"
   },
   "outputs": [],
   "source": [
    "import numpy as np\n",
    "import seaborn as sns\n",
    "import matplotlib.pyplot as plt\n",
    "\n",
    "from sklearn.datasets import load_iris\n",
    "from sklearn.neighbors import KNeighborsClassifier\n",
    "from sklearn.metrics import accuracy_score\n",
    "from sklearn.model_selection import train_test_split, cross_val_score"
   ]
  },
  {
   "cell_type": "markdown",
   "metadata": {
    "id": "i6EJDXQ2EOTx"
   },
   "source": [
    "### NumPy Basics\n",
    "\n",
    "Great. Let's move on to our next topic: getting a handle on NumPy basics. You can think of NumPy as sort of like a MATLAB for Python (if that helps). The main object is multidimensional arrays, and these come in particularly handy when working with data and machine learning algorithms.\n",
    "\n",
    "Let's create a 2x4 array containing the numbers 1 through 8 and conduct some basic operations on it.  \n",
    "**>> Run the code in the next cell to create and print the array.***"
   ]
  },
  {
   "cell_type": "code",
   "execution_count": null,
   "metadata": {
    "colab": {
     "base_uri": "https://localhost:8080/"
    },
    "id": "cQxQkId8EOTx",
    "outputId": "eac95daa-2c34-4dde-8b8d-fd2e00cd9cb5"
   },
   "outputs": [],
   "source": [
    "array_2x4 = np.arange(8).reshape(2, 4)\n",
    "array_2x4"
   ]
  },
  {
   "cell_type": "markdown",
   "metadata": {
    "id": "zmbEmYFPEOTz"
   },
   "source": [
    "We can access the shape, number of dimensions, data type, and number of elements in our array as follows:  \n",
    "*(Tip: use \"print()\" when you want a cell to output more than one thing, or you want to append text to your output, otherwise the cell will output the last object you call, as in the cell above)*"
   ]
  },
  {
   "cell_type": "code",
   "execution_count": null,
   "metadata": {
    "colab": {
     "base_uri": "https://localhost:8080/"
    },
    "id": "VIuwFnemEOTz",
    "outputId": "9fad6c3e-f102-4738-ff8f-908da5b4364a"
   },
   "outputs": [],
   "source": [
    "# f-strings are a way to embed expressions inside string literals, using curly braces {}.\n",
    "# The expressions inside the braces are evaluated at runtime and then formatted using the format string syntax.\n",
    "print(f\"Shape: {array_2x4.shape}\")\n",
    "print(f\"Dimensions: {array_2x4.ndim}\")\n",
    "print(f\"Data type: {array_2x4.dtype.name}\")\n",
    "print(f\"Number of elements: {array_2x4.size}\")"
   ]
  },
  {
   "cell_type": "markdown",
   "metadata": {
    "id": "Q-y0kkdeEOT0"
   },
   "source": [
    "If we have a Python list containing a set of numbers, we can use it to create an array:"
   ]
  },
  {
   "cell_type": "code",
   "execution_count": null,
   "metadata": {
    "colab": {
     "base_uri": "https://localhost:8080/"
    },
    "id": "MTl7XGG2EOT1",
    "outputId": "1b592f1b-1d85-4684-de6c-f746b945cd15"
   },
   "outputs": [],
   "source": [
    "# You can easily create a NumPy array from a regular Python list. This can be useful when working with sequences of numerical data.\n",
    "# Here, we will create a NumPy array from a list containing the first nine numbers of the Fibonacci sequence.\n",
    "\n",
    "fibonacci_list = [0, 1, 1, 2, 3, 5, 8, 13, 21]\n",
    "fibonacci_array = np.array(fibonacci_list)\n",
    "fibonacci_array"
   ]
  },
  {
   "cell_type": "markdown",
   "metadata": {
    "id": "qz0g0_mYEOT2"
   },
   "source": [
    "And we can do it for nested lists as well, creating multidimensional NumPy arrays:"
   ]
  },
  {
   "cell_type": "code",
   "execution_count": null,
   "metadata": {
    "colab": {
     "base_uri": "https://localhost:8080/"
    },
    "id": "NAZUXTYcEOT2",
    "outputId": "8293931a-bc10-461a-e557-a7c554375a38"
   },
   "outputs": [],
   "source": [
    "two_d_list = [[1, 2, 3], [4, 5, 6]]\n",
    "two_d_array = np.array(two_d_list)\n",
    "two_d_array"
   ]
  },
  {
   "cell_type": "markdown",
   "metadata": {
    "id": "E1bkuyDAEOT3"
   },
   "source": [
    "We can also index and slice NumPy arrays like we would do with a Python list or another container object as follows:"
   ]
  },
  {
   "cell_type": "code",
   "execution_count": null,
   "metadata": {
    "colab": {
     "base_uri": "https://localhost:8080/"
    },
    "id": "JnZjmyCqEOT3",
    "outputId": "db7d0be3-8cc7-4363-f570-b3b69bbf0219"
   },
   "outputs": [],
   "source": [
    "array_one_dim = np.arange(10)\n",
    "print(f\"Originally: {array_one_dim}\")\n",
    "print(f\"First four elements: {array_one_dim[:4]}\")\n",
    "print(f\"After the first four elements: {array_one_dim[4:]}\")\n",
    "print(f\"The last element: {array_one_dim[-1]}\")"
   ]
  },
  {
   "cell_type": "markdown",
   "metadata": {
    "id": "Lp6nck2REOT4"
   },
   "source": [
    "And we can index/slice multidimensional arrays, too."
   ]
  },
  {
   "cell_type": "code",
   "execution_count": null,
   "metadata": {
    "colab": {
     "base_uri": "https://localhost:8080/"
    },
    "id": "EdLxn49WEOT4",
    "outputId": "09f0e7d5-9e95-4bd7-bfa9-5258e81279da"
   },
   "outputs": [],
   "source": [
    "# The syntax `array[:,0]` for example, accesses the first element of each row (i.e., the first column).\n",
    "\n",
    "multi_array = np.array([[1, 2, 3], [4, 5, 6]])\n",
    "print(f\"Originally:\\n{multi_array}\")\n",
    "print(f\"First row only: {multi_array[0]}\")\n",
    "print(f\"First column only: {multi_array[:, 0]}\")"
   ]
  },
  {
   "cell_type": "markdown",
   "metadata": {
    "id": "rQYx2QXiEOT5"
   },
   "source": [
    "#### Sneak preview\n",
    "\n",
    "Often, when designing a machine learning classifier, it can be useful to compare an array of predictions (0 or 1 values) to another array of true values. We can do this pretty easily in NumPy to compute the *accuracy* (e.g., the number of values that are the same), for example, as follows:"
   ]
  },
  {
   "cell_type": "code",
   "execution_count": null,
   "metadata": {
    "colab": {
     "base_uri": "https://localhost:8080/"
    },
    "id": "_rzMxsmLEOT5",
    "outputId": "5c6c88c0-42de-457a-b99a-650087761b36"
   },
   "outputs": [],
   "source": [
    "# We are comparing two arrays to find the 'accuracy', which is the proportion of matching elements.\n",
    "# In a machine learning context, this might represent the percentage of correct predictions.\n",
    "\n",
    "true_values = [0, 0, 1, 1, 1, 1, 1, 0, 1, 0]\n",
    "predictions = [0, 0, 0, 1, 1, 1, 0, 1, 1, 0]\n",
    "\n",
    "true_values_array = np.array(true_values)\n",
    "predictions_array = np.array(predictions)\n",
    "\n",
    "# Using NumPy's mean function to compute accuracy\n",
    "accuracy = np.mean(true_values_array == predictions_array)\n",
    "print(f\"Accuracy: {accuracy * 100}%\")"
   ]
  },
  {
   "cell_type": "markdown",
   "metadata": {
    "id": "pDNpaymPEOT5"
   },
   "source": [
    "In the previous cell, we took two Python lists, converted them to NumPy arrays, and then used a combination of np.sum() and .size to compute the accuracy (proportion of elements that are pairwise equal). A tiny bit more advanced, but demonstrates the power of NumPy arrays."
   ]
  },
  {
   "cell_type": "markdown",
   "metadata": {
    "id": "mmNWbLweEOT6"
   },
   "source": [
    "### Scikit-learn Basics\n",
    "\n",
    "Scikit-learn is a great library to use for doing machine learning in Python. Data preparation, exploratory data analysis (EDA), classification, regression, clustering; it has it all. \n",
    "\n",
    "Scikit-learn usually expects data to be in the form of a 2D matrix with dimensions *n_samples x n_features* with an additional column for the target. To get acquainted with scikit-learn, we are going to use the [iris dataset](https://archive.ics.uci.edu/ml/datasets/iris), one of the most famous datasets in pattern recognition. \n",
    "\n",
    "Each entry in the dataset represents an iris plant, and is categorized as: \n",
    "\n",
    "* Setosa (class 0)\n",
    "* Versicolor (class 1)\n",
    "* Virginica (class 2)\n",
    "\n",
    "These represent the target classes to predict. Each entry also includes a set of features, namely:\n",
    "\n",
    "* Sepal width (cm)\n",
    "* Sepal length (cm)\n",
    "* Petal length (cm)\n",
    "* Petal width (cm)\n",
    "\n",
    "In the context of machine learning classification, the remainder of the lab is going to investigate the following question:  \n",
    "*Can we design a model that, based on the iris sample features, can accurately predict the iris sample class? *\n",
    "\n",
    "Scikit-learn has a copy of the iris dataset readily importable for us. Let's grab it now and conduct some EDA."
   ]
  },
  {
   "cell_type": "code",
   "execution_count": null,
   "metadata": {
    "id": "g2-wyZx6EOT6"
   },
   "outputs": [],
   "source": [
    "iris_data = load_iris()\n",
    "feature_data = iris_data.data"
   ]
  },
  {
   "cell_type": "markdown",
   "metadata": {
    "id": "tr3OodXEEOT6"
   },
   "source": [
    "**YOUR TURN:** \"feature_data\" now contains the feature data for all of the iris samples. \n",
    "* What is the shape of this feature data? ________________\n",
    "* The data type? ________________\n",
    "* How many samples are there? ________________\n",
    "* How many features are there? ________________"
   ]
  },
  {
   "cell_type": "code",
   "execution_count": null,
   "metadata": {
    "colab": {
     "base_uri": "https://localhost:8080/"
    },
    "id": "dGSb93AUEOT7",
    "outputId": "b7b1f98e-5483-4040-ba35-a9afb98b43c9"
   },
   "outputs": [],
   "source": [
    "## Enter your code here"
   ]
  },
  {
   "cell_type": "markdown",
   "metadata": {
    "id": "ADPK_IktEOT7"
   },
   "source": [
    "Next, we will save the target classification data in a similar fashion."
   ]
  },
  {
   "cell_type": "code",
   "execution_count": null,
   "metadata": {
    "id": "txwjzkomEOT7"
   },
   "outputs": [],
   "source": [
    "target_data = iris_data.target\n",
    "target_names = iris_data.target_names"
   ]
  },
  {
   "cell_type": "markdown",
   "metadata": {
    "id": "iNjpq5XcEOT8"
   },
   "source": [
    "**YOUR TURN:**\n",
    "* What values are in \"target_data\"? ________________\n",
    "* What is the data type? ________________\n",
    "* What values are in \"target_names\"? ________________\n",
    "* What is the data type? ____________\n",
    "* How many samples are of type \"setosa\"? ________________"
   ]
  },
  {
   "cell_type": "code",
   "execution_count": null,
   "metadata": {
    "colab": {
     "base_uri": "https://localhost:8080/"
    },
    "id": "Qbk1mRqYEOT8",
    "outputId": "cb768dbe-3ca7-4e0e-85e2-acaaf24bfc32"
   },
   "outputs": [],
   "source": [
    "## Enter your code here"
   ]
  },
  {
   "cell_type": "markdown",
   "metadata": {
    "id": "DZkEii2tEOT8"
   },
   "source": [
    "We can also do some more visual EDA by plotting the samples according to a subset of the features and coloring the data points to coincide with the sample classification. We will use [matplotlib](https://matplotlib.org/), a powerful plotting library within Python, to accomplish this.\n",
    "\n",
    "For example, let's plot sepal width vs. sepal length.\n"
   ]
  },
  {
   "cell_type": "code",
   "execution_count": null,
   "metadata": {
    "colab": {
     "base_uri": "https://localhost:8080/",
     "height": 313
    },
    "id": "yctO8uMCEOT9",
    "outputId": "8cb50903-b2d4-4a13-8c4a-ce55f299ebec"
   },
   "outputs": [],
   "source": [
    "# Preparing data for Seaborn plotting\n",
    "setosa = feature_data[target_data == 0]\n",
    "versicolor = feature_data[target_data == 1]\n",
    "virginica = feature_data[target_data == 2]\n",
    "\n",
    "# Plotting setosa\n",
    "sns.scatterplot(x=setosa[:, 0], y=setosa[:, 1], label=\"setosa\")\n",
    "\n",
    "# Plotting versicolor\n",
    "sns.scatterplot(x=versicolor[:, 0], y=versicolor[:, 1], label=\"versicolor\")\n",
    "\n",
    "# Plotting virginica\n",
    "sns.scatterplot(x=virginica[:, 0], y=virginica[:, 1], label=\"virginica\")\n",
    "\n",
    "# Adding labels and title\n",
    "plt.xlabel(\"sepal length (cm)\")\n",
    "plt.ylabel(\"sepal width (cm)\")\n",
    "plt.title(\"Visual EDA\")\n",
    "plt.legend(title=\"Class\")\n",
    "plt.show()  # Sometimes this explicit call is optional - depends on your environment"
   ]
  },
  {
   "cell_type": "markdown",
   "metadata": {
    "id": "WZruiACNEOT9"
   },
   "source": [
    "In the above step, we used boolean indexing to filter the feature data based on the target data class. This allowed us to create a scatter plot for each of the iris classes and distinguish them by color.\n",
    "\n",
    "*Observations*: We can see that the \"setosa\" class typically consists of medium-to-high sepal width with low-to-medium sepal length, while the other two classes have lower width and higher length. The \"virginica\" class appears to have the largest combination of the two. \n",
    "\n",
    "**YOUR TURN:** \n",
    "* Which of the iris classes is seperable based on sepal characteristics? ________________\n",
    "* Which of the iris classes is not? ________________\n",
    "* Can we (easily) visualize each of the samples w.r.t. all features on the same plot? Why/why not? ________________"
   ]
  },
  {
   "cell_type": "markdown",
   "metadata": {
    "id": "J08LHtoJEOT9"
   },
   "source": [
    "### Creating a k-Nearest Neighbors Classifier\n",
    "\n",
    "Now that we've explored the data a little bit, we're going to use scikit-learn to create a k-nearest neighbors classifier for the data. Effectively we'll be developing a model whose job it is to build a relationship over input feature data (sepal and petal characteristics) that predicts the iris sample class (e.g. \"setosa\"). This is an example of a *supervised learning* task; we have all the features and all the target classes.\n",
    "\n",
    "Nearest neightbors classifiers are quite simple. They predict the class of a new data sample based off the *nearest* data points to that sample. The 'nearest' metric is calculated via a distance function (often [Euclidean distance](https://en.wikipedia.org/wiki/Euclidean_distance)). \n",
    "\n",
    "<img src=\"https://github.com/lyeskhalil/mlbootcamp/blob/master/img/knn.png?raw=1\" alt=\"knn\" width=\"200\"/>\n",
    "\n",
    "For example, in the above diagram, suppose we are looking to classify the green circle as either a red triangle, or a blue square. If k = 1 (i.e., we look at one neighbor), our model would predict *red triangle*. If k=2, it would still predict *red triangle*. If k=3, the model would predict *red triangle* as it is the *majority* class of the 3 nearest neighbors. It isn't until k=5 that the algorithm actually predicts *blue square*.\n",
    "\n",
    "Model creation in scikit-learn follows a **data prep -> fit -> predict** process. The \"fit\" function is where the actual model is trained and parameter values are selected, while the \"predict\" function actually takes the trained model and applies it to the new samples.\n",
    "\n",
    "First, we're going to save our feature data into an array called 'X' and our target data into an array called 'y'. We don't *need* to do this, but it is traditional to think of the problem using this notation."
   ]
  },
  {
   "cell_type": "code",
   "execution_count": null,
   "metadata": {
    "id": "FszkYRkUEOT-"
   },
   "outputs": [],
   "source": [
    "X = feature_data\n",
    "y = target_data"
   ]
  },
  {
   "cell_type": "markdown",
   "metadata": {
    "id": "sbdtLoJWEOT-"
   },
   "source": [
    "Next, we create our nearest neighbor classifier object:"
   ]
  },
  {
   "cell_type": "code",
   "execution_count": null,
   "metadata": {
    "id": "g0Lb8XqPEOT-"
   },
   "outputs": [],
   "source": [
    "knn = KNeighborsClassifier(n_neighbors=1)"
   ]
  },
  {
   "cell_type": "markdown",
   "metadata": {
    "id": "jP4eJurlEOT_"
   },
   "source": [
    "And then we *fit* it to the data (i.e., train the classifier)."
   ]
  },
  {
   "cell_type": "code",
   "execution_count": null,
   "metadata": {
    "colab": {
     "base_uri": "https://localhost:8080/"
    },
    "id": "pYEdSgbfEOT_",
    "outputId": "93c715ff-b692-44fe-df5b-31fb160699c4"
   },
   "outputs": [],
   "source": [
    "knn.fit(X, y)"
   ]
  },
  {
   "cell_type": "markdown",
   "metadata": {
    "id": "R-zjMUKDEOT_"
   },
   "source": [
    "Now we have a model! If you're new to this, you've officially built your first machine learning model. If you use \"knn.predict(*[[feature array here]]*)\", you can use your trained model to predict the class of a new iris sample. \n",
    "\n",
    "**YOUR TURN:**\n",
    "* What is the predicted class of a new iris sample with feature vector [3,4,5,2]? What is its name? ________________\n",
    "* Do you think this model is overfit or underfit to the iris dataset? Why? ________________\n",
    "* How many neighbors does our model consider when classifying a new sample? ________________"
   ]
  },
  {
   "cell_type": "code",
   "execution_count": null,
   "metadata": {
    "colab": {
     "base_uri": "https://localhost:8080/"
    },
    "id": "cqfuCWd0I5GJ",
    "outputId": "f0ae06b0-db08-4512-c542-e672cb0fccb9"
   },
   "outputs": [],
   "source": [
    "# Insert code here"
   ]
  },
  {
   "cell_type": "markdown",
   "metadata": {
    "id": "tECGB052EOUA"
   },
   "source": [
    "As you may have noted in the previous cell, we've trained this classifier on our *entire dataset*. This typically isn't done in practice and results in overfitting to the data. Here's a bit of a tricky question:\n",
    "\n",
    "**YOUR TURN:**\n",
    "* If we use our classifier to predict the classes of the iris samples that were used to train the model itself, what will our overall accuracy be? ________________\n",
    "\n",
    "We can validate our hypothesis fairly easily using either: i) the NumPy technique for calculating accuracy we used earlier in the lab, or ii) scikit-learn's in-house \"accuracy_score()\" function.\n",
    "\n",
    "Let's use our technique first:"
   ]
  },
  {
   "cell_type": "code",
   "execution_count": null,
   "metadata": {
    "colab": {
     "base_uri": "https://localhost:8080/"
    },
    "id": "W-N4VATDEOUA",
    "outputId": "6c08a15b-f6ed-4d98-948a-6773602bb11a"
   },
   "outputs": [],
   "source": [
    "accuracy = np.mean(target_data == knn.predict(feature_data))\n",
    "print(f\"Accuracy: {accuracy * 100}%\")"
   ]
  },
  {
   "cell_type": "markdown",
   "metadata": {
    "id": "oa7hUYINEOUA"
   },
   "source": [
    "and then using scikit-learn's customized function:"
   ]
  },
  {
   "cell_type": "code",
   "execution_count": null,
   "metadata": {
    "colab": {
     "base_uri": "https://localhost:8080/"
    },
    "id": "ZjccX7kiEOUA",
    "outputId": "3d222ae7-5ab2-4fa9-e5f3-e4a1adf60f7d"
   },
   "outputs": [],
   "source": [
    "accuracy = accuracy_score(target_data, knn.predict(feature_data))\n",
    "print(f\"Accuracy: {accuracy * 100}%\")"
   ]
  },
  {
   "cell_type": "markdown",
   "metadata": {
    "id": "XQnPrUctEOUB"
   },
   "source": [
    "We see that our classifier has achieved 100% accuracy (and both calculation methods agree)!\n",
    "\n",
    "**DISCUSSION:** \n",
    "* Why do you think the model was able to achieve such a \"great\" result? ______________________\n",
    "* What does this really tell us?  __________________________________\n",
    "* Do you expect the model to perform this well on new data? __________________________________"
   ]
  },
  {
   "cell_type": "markdown",
   "metadata": {
    "id": "hborziLMEOUB"
   },
   "source": [
    "### Cross Validation\n",
    "\n",
    "A popular way to mitigate this overfitting issue is to train your model on *some* of the data (the training set) and validate your model on the remaining data (the validation set). You will then select the model/configuration that performs best on the validation data. The train/validate division of the data is usually done with a 70%/30% split. Often, practitioners will use a third data set, the test set (or hold-out set), to get a sense for how their best model performs on unseen, real-world data. In this scenario, you will tune your models to perform best on the validation set and then test their \"real-world\" performance on the unseen test set.\n",
    "\n",
    "Sometimes applications don't have enough data to do these splits meaningfully (e.g., the test data is only a few samples). In these cases, *cross-validation* is a useful technique (and, indeed, has become standard in machine learning practice). \n",
    "\n",
    "The general premise of \"k-folds\" cross validation is to first divide the entire dataset (grey) into a training set (green) and a test set (unseen data, blue). Then, we divide the training set into different folds and use these folds to form new sub-training and sub-test sets. We select the model configuration that performs the best on all of these. The below figure provides a nice visualization for what's going on here:\n",
    "\n",
    "<img src=\"https://github.com/lyeskhalil/mlbootcamp/blob/master/img/cross-val.png?raw=1\" alt=\"cross-val\" width=\"500\"/>\n"
   ]
  },
  {
   "cell_type": "markdown",
   "metadata": {
    "id": "0bkMRDNQEOUB"
   },
   "source": [
    "Accomplishing k-folds cross validation in scikit-learn is a manageable task. First, we divide our data into a train and test set, then we conduct the cross validation and look at the mean scores across the splits, then we conduct our final evaluation."
   ]
  },
  {
   "cell_type": "code",
   "execution_count": null,
   "metadata": {
    "id": "YYpxSDnUEOUB"
   },
   "outputs": [],
   "source": [
    "X_train, X_test, y_train, y_test = train_test_split(\n",
    "    feature_data, target_data, test_size=0.3, random_state=0\n",
    ")"
   ]
  },
  {
   "cell_type": "markdown",
   "metadata": {
    "id": "v_ifhLoMEOUB"
   },
   "source": [
    "We have divided our data into two sections: training data (70% of the data) and testing data (30% of the data). Now we will fit our nearest neighbors classifier to the training data with 5 folds and see how it performs."
   ]
  },
  {
   "cell_type": "code",
   "execution_count": null,
   "metadata": {
    "colab": {
     "base_uri": "https://localhost:8080/"
    },
    "id": "6nDnjfaKEOUB",
    "outputId": "c7e9b7cb-eac6-4740-85f2-98461f512925"
   },
   "outputs": [],
   "source": [
    "scores = cross_val_score(knn, X_train, y_train, cv=5)\n",
    "print(f\"Accuracy: {scores.mean():.2f} (+/- {scores.std() * 1.96:.2f})\")"
   ]
  },
  {
   "cell_type": "markdown",
   "metadata": {
    "id": "kSFriTVTEOUC"
   },
   "source": [
    "Our cross-validated model has an accuracy of 94% across all the splits on the training data. If we think that is a reasonable value, we can train our final model on the training data and then see how it performs on the held-out test data. \n",
    "\n",
    "##### Comparing classifiers\n",
    "However, to get a true sense for the utility of cross-validation, let's create a second nearest neighbors classifier that uses two neighbors instead of one. "
   ]
  },
  {
   "cell_type": "code",
   "execution_count": null,
   "metadata": {
    "colab": {
     "base_uri": "https://localhost:8080/"
    },
    "id": "WoUmuoWHEOUC",
    "outputId": "ebb092d4-b87f-44d6-94bc-1fb378348fbf"
   },
   "outputs": [],
   "source": [
    "knn_2_neighbors = KNeighborsClassifier(n_neighbors=2)\n",
    "scores = cross_val_score(knn_2_neighbors, X_train, y_train, cv=5)\n",
    "print(f\"Accuracy: {scores.mean():.2f} (+/- {scores.std() * 1.96:.2f})\")"
   ]
  },
  {
   "cell_type": "markdown",
   "metadata": {
    "id": "w8u2IjDXEOUC"
   },
   "source": [
    "As we see above, our second classifier (the one with two neighbors) actually performs worse when cross-validated (92% vs. 94% mean accuracy on the 5 folds)! So, we'll stick with the first one.\n",
    "\n",
    "Evaluating the model on held-out test data is a critical step in assessing its performance. By using data that the model has not seen during training, we can gauge how well the model generalizes to new, unseen data. This provides a more realistic estimation of how the model would perform in a real-world scenario where it encounters data points it has not seen before.\n",
    "\n",
    "Let's train the chosen model on the training data and use it to predict the final held-out test data. Evaluating on the test data will help us understand the model's ability to generalize, which is a key aspect of a reliable and robust machine learning model."
   ]
  },
  {
   "cell_type": "code",
   "execution_count": null,
   "metadata": {
    "colab": {
     "base_uri": "https://localhost:8080/"
    },
    "id": "6i7G2Uf6EOUC",
    "outputId": "24fd2349-e68f-4ff8-d4b2-42eb6997f821"
   },
   "outputs": [],
   "source": [
    "knn.fit(X_train, y_train)\n",
    "accuracy = accuracy_score(y_test, knn.predict(X_test))\n",
    "print(f\"Test set accuracy: {accuracy * 100:.2f}%\")"
   ]
  },
  {
   "cell_type": "markdown",
   "metadata": {
    "id": "P5AiO_udEOUD"
   },
   "source": [
    "And we see our model has a 97.8% accuracy on the held out test data (30% of the original dataset).\n",
    "\n",
    "## Bonus Task: Confusion Matrix Analysis\n",
    "\n",
    "A confusion matrix is a table used to describe the performance of a classification model on a set of data for which the true values are known. It is especially powerful for multi-class classification, like our iris dataset.\n",
    "\n",
    "In this bonus task, you will create a confusion matrix for the k-nearest neighbors classifier you trained earlier on the test data. Then, calculate specific metrics like precision, recall, and F1-score for each class. Here's a step-by-step guide to help you get started:\n",
    "\n",
    "1. Predict the Test Data: You've already done this, so you can simply use the predictions you made for the test data. \n",
    "2. Create the Confusion Matrix: You can use scikit-learn's confusion_matrix function for this.\n",
    "3. Analyze the Matrix: Calculate precision, recall, and F1-score for each class. You might find scikit-learn's classification_report helpful or calculate them manually.\n",
    "\n",
    "Below is a snippet to help you create the confusion matrix. The rest is up to you!"
   ]
  },
  {
   "cell_type": "code",
   "execution_count": null,
   "outputs": [],
   "source": [
    "from sklearn.metrics import confusion_matrix\n",
    "\n",
    "# Predict the test data\n",
    "y_pred = knn.predict(X_test)\n",
    "\n",
    "# Create the confusion matrix\n",
    "conf_matrix = confusion_matrix(y_test, y_pred)\n",
    "print(\"Confusion Matrix:\")\n",
    "print(conf_matrix)\n",
    "\n",
    "# Now it's your turn to analyze this matrix and calculate precision, recall, and F1-score for each class!"
   ],
   "metadata": {
    "collapsed": false
   }
  },
  {
   "cell_type": "code",
   "execution_count": null,
   "outputs": [],
   "source": [],
   "metadata": {
    "collapsed": false
   }
  }
 ],
 "metadata": {
  "colab": {
   "name": "lab-1-1-basics.ipynb",
   "provenance": []
  },
  "kernelspec": {
   "display_name": "Python 3 (ipykernel)",
   "language": "python",
   "name": "python3"
  },
  "language_info": {
   "codemirror_mode": {
    "name": "ipython",
    "version": 3
   },
   "file_extension": ".py",
   "mimetype": "text/x-python",
   "name": "python",
   "nbconvert_exporter": "python",
   "pygments_lexer": "ipython3",
   "version": "3.8.12"
  }
 },
 "nbformat": 4,
 "nbformat_minor": 4
}
